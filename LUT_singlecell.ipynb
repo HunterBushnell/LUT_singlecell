{
  "nbformat": 4,
  "nbformat_minor": 0,
  "metadata": {
    "colab": {
      "provenance": [],
      "authorship_tag": "ABX9TyPE1KmncOe1CgTtq9GnKtnB",
      "include_colab_link": true
    },
    "kernelspec": {
      "name": "python3",
      "display_name": "Python 3"
    },
    "language_info": {
      "name": "python"
    }
  },
  "cells": [
    {
      "cell_type": "markdown",
      "metadata": {
        "id": "view-in-github",
        "colab_type": "text"
      },
      "source": [
        "<a href=\"https://colab.research.google.com/github/HunterBushnell/LUT_singlecell/blob/main/LUT_singlecell.ipynb\" target=\"_parent\"><img src=\"https://colab.research.google.com/assets/colab-badge.svg\" alt=\"Open In Colab\"/></a>"
      ]
    },
    {
      "cell_type": "code",
      "source": [
        "# Install\n",
        "!pip install neuron==8.2.2\n",
        "!pip install bmtk==1.0.7"
      ],
      "metadata": {
        "colab": {
          "base_uri": "https://localhost:8080/"
        },
        "id": "EN3eGs0MVhJr",
        "outputId": "b4b32f16-7aee-4d02-8698-daecf6c19103"
      },
      "execution_count": 1,
      "outputs": [
        {
          "output_type": "stream",
          "name": "stdout",
          "text": [
            "Looking in indexes: https://pypi.org/simple, https://us-python.pkg.dev/colab-wheels/public/simple/\n",
            "Collecting neuron==8.2.2\n",
            "  Downloading NEURON-8.2.2-cp39-cp39-manylinux_2_17_x86_64.manylinux2014_x86_64.whl (15.0 MB)\n",
            "\u001b[2K     \u001b[90m━━━━━━━━━━━━━━━━━━━━━━━━━━━━━━━━━━━━━━━━\u001b[0m \u001b[32m15.0/15.0 MB\u001b[0m \u001b[31m45.1 MB/s\u001b[0m eta \u001b[36m0:00:00\u001b[0m\n",
            "\u001b[?25hRequirement already satisfied: numpy>=1.9.3 in /usr/local/lib/python3.9/dist-packages (from neuron==8.2.2) (1.22.4)\n",
            "Installing collected packages: neuron\n",
            "Successfully installed neuron-8.2.2\n",
            "Looking in indexes: https://pypi.org/simple, https://us-python.pkg.dev/colab-wheels/public/simple/\n",
            "Collecting bmtk==1.0.7\n",
            "  Downloading bmtk-1.0.7-py2.py3-none-any.whl (743 kB)\n",
            "\u001b[2K     \u001b[90m━━━━━━━━━━━━━━━━━━━━━━━━━━━━━━━━━━━━━━━\u001b[0m \u001b[32m743.6/743.6 kB\u001b[0m \u001b[31m3.1 MB/s\u001b[0m eta \u001b[36m0:00:00\u001b[0m\n",
            "\u001b[?25hRequirement already satisfied: h5py in /usr/local/lib/python3.9/dist-packages (from bmtk==1.0.7) (3.8.0)\n",
            "Requirement already satisfied: numpy in /usr/local/lib/python3.9/dist-packages (from bmtk==1.0.7) (1.22.4)\n",
            "Requirement already satisfied: six in /usr/local/lib/python3.9/dist-packages (from bmtk==1.0.7) (1.16.0)\n",
            "Requirement already satisfied: sympy in /usr/local/lib/python3.9/dist-packages (from bmtk==1.0.7) (1.11.1)\n",
            "Requirement already satisfied: jsonschema in /usr/local/lib/python3.9/dist-packages (from bmtk==1.0.7) (4.3.3)\n",
            "Requirement already satisfied: scikit-image in /usr/local/lib/python3.9/dist-packages (from bmtk==1.0.7) (0.19.3)\n",
            "Requirement already satisfied: scipy in /usr/local/lib/python3.9/dist-packages (from bmtk==1.0.7) (1.10.1)\n",
            "Requirement already satisfied: matplotlib in /usr/local/lib/python3.9/dist-packages (from bmtk==1.0.7) (3.7.1)\n",
            "Requirement already satisfied: pandas in /usr/local/lib/python3.9/dist-packages (from bmtk==1.0.7) (1.4.4)\n",
            "Requirement already satisfied: pyrsistent!=0.17.0,!=0.17.1,!=0.17.2,>=0.14.0 in /usr/local/lib/python3.9/dist-packages (from jsonschema->bmtk==1.0.7) (0.19.3)\n",
            "Requirement already satisfied: attrs>=17.4.0 in /usr/local/lib/python3.9/dist-packages (from jsonschema->bmtk==1.0.7) (22.2.0)\n",
            "Requirement already satisfied: pillow>=6.2.0 in /usr/local/lib/python3.9/dist-packages (from matplotlib->bmtk==1.0.7) (8.4.0)\n",
            "Requirement already satisfied: cycler>=0.10 in /usr/local/lib/python3.9/dist-packages (from matplotlib->bmtk==1.0.7) (0.11.0)\n",
            "Requirement already satisfied: python-dateutil>=2.7 in /usr/local/lib/python3.9/dist-packages (from matplotlib->bmtk==1.0.7) (2.8.2)\n",
            "Requirement already satisfied: kiwisolver>=1.0.1 in /usr/local/lib/python3.9/dist-packages (from matplotlib->bmtk==1.0.7) (1.4.4)\n",
            "Requirement already satisfied: fonttools>=4.22.0 in /usr/local/lib/python3.9/dist-packages (from matplotlib->bmtk==1.0.7) (4.39.3)\n",
            "Requirement already satisfied: pyparsing>=2.3.1 in /usr/local/lib/python3.9/dist-packages (from matplotlib->bmtk==1.0.7) (3.0.9)\n",
            "Requirement already satisfied: importlib-resources>=3.2.0 in /usr/local/lib/python3.9/dist-packages (from matplotlib->bmtk==1.0.7) (5.12.0)\n",
            "Requirement already satisfied: packaging>=20.0 in /usr/local/lib/python3.9/dist-packages (from matplotlib->bmtk==1.0.7) (23.0)\n",
            "Requirement already satisfied: contourpy>=1.0.1 in /usr/local/lib/python3.9/dist-packages (from matplotlib->bmtk==1.0.7) (1.0.7)\n",
            "Requirement already satisfied: pytz>=2020.1 in /usr/local/lib/python3.9/dist-packages (from pandas->bmtk==1.0.7) (2022.7.1)\n",
            "Requirement already satisfied: networkx>=2.2 in /usr/local/lib/python3.9/dist-packages (from scikit-image->bmtk==1.0.7) (3.0)\n",
            "Requirement already satisfied: tifffile>=2019.7.26 in /usr/local/lib/python3.9/dist-packages (from scikit-image->bmtk==1.0.7) (2023.3.21)\n",
            "Requirement already satisfied: PyWavelets>=1.1.1 in /usr/local/lib/python3.9/dist-packages (from scikit-image->bmtk==1.0.7) (1.4.1)\n",
            "Requirement already satisfied: imageio>=2.4.1 in /usr/local/lib/python3.9/dist-packages (from scikit-image->bmtk==1.0.7) (2.25.1)\n",
            "Requirement already satisfied: mpmath>=0.19 in /usr/local/lib/python3.9/dist-packages (from sympy->bmtk==1.0.7) (1.3.0)\n",
            "Requirement already satisfied: zipp>=3.1.0 in /usr/local/lib/python3.9/dist-packages (from importlib-resources>=3.2.0->matplotlib->bmtk==1.0.7) (3.15.0)\n",
            "Installing collected packages: bmtk\n",
            "Successfully installed bmtk-1.0.7\n"
          ]
        }
      ]
    },
    {
      "cell_type": "code",
      "source": [
        "# Download Files\n",
        "\n",
        "import os\n",
        "\n",
        "if os.path.basename(os.getcwd())!='LUT_singlecell':\n",
        "  !git clone https://github.com/HunterBushnell/LUT_singlecell\n",
        "  %cd LUT_singlecell/\n",
        "else:\n",
        "  print('Mod files have already been downloaded.')\n",
        "%ls"
      ],
      "metadata": {
        "colab": {
          "base_uri": "https://localhost:8080/"
        },
        "id": "-gSQxFa_L5V7",
        "outputId": "470f5ac2-e60b-4b2c-dd22-ec43ec2529d0"
      },
      "execution_count": 2,
      "outputs": [
        {
          "output_type": "stream",
          "name": "stdout",
          "text": [
            "Cloning into 'LUT_singlecell'...\n",
            "remote: Enumerating objects: 366, done.\u001b[K\n",
            "remote: Counting objects: 100% (30/30), done.\u001b[K\n",
            "remote: Compressing objects: 100% (29/29), done.\u001b[K\n",
            "remote: Total 366 (delta 2), reused 0 (delta 0), pack-reused 336\u001b[K\n",
            "Receiving objects: 100% (366/366), 6.58 MiB | 25.23 MiB/s, done.\n",
            "Resolving deltas: 100% (157/157), done.\n",
            "/content/LUT_singlecell\n",
            "\u001b[0m\u001b[01;34mbiophys_components\u001b[0m/  \u001b[01;34mgraphs\u001b[0m/   \u001b[01;34mnotes\u001b[0m/           plotting.py       run_bionet.py\n",
            "build_network.py     \u001b[01;34mimages\u001b[0m/   \u001b[01;34moutput\u001b[0m/          \u001b[01;34m__pycache__\u001b[0m/      run.sh\n",
            "\u001b[01;34merror_logs\u001b[0m/          \u001b[01;34mjsons\u001b[0m/    plot_results.py  README.md         spikes.csv\n",
            "feedback_loop.py     \u001b[01;34mnetwork\u001b[0m/  plotting.pkl     requirements.txt  synapses.py\n"
          ]
        }
      ]
    },
    {
      "cell_type": "code",
      "source": [
        "# Compile Files\n",
        "\n",
        "import os \n",
        "# move to the mechanisms folder\n",
        "%cd biophys_components/mechanisms/\n",
        "os.system(\"rm -rf x86_64\") # deletes x86_64 if its there\n",
        "%ls # just to make sure its gone\n",
        "print(os.system('nrnivmodl modfiles')) # compile modfiles. Return 0 for success, 1 for failure.\n",
        "%ls # check to make sure the folder is there now\n",
        "%cd ../..\n",
        "%ls"
      ],
      "metadata": {
        "colab": {
          "base_uri": "https://localhost:8080/"
        },
        "id": "gYmb2C9NC_R0",
        "outputId": "fb1638f9-edb7-492b-f7de-a1e356dfd305"
      },
      "execution_count": 3,
      "outputs": [
        {
          "output_type": "stream",
          "name": "stdout",
          "text": [
            "/content/LUT_singlecell/biophys_components/mechanisms\n",
            "filess  \u001b[0m\u001b[01;34mmodfiles\u001b[0m/\n",
            "0\n",
            "filess  \u001b[0m\u001b[01;34mmodfiles\u001b[0m/  \u001b[01;34mx86_64\u001b[0m/\n",
            "/content/LUT_singlecell\n",
            "\u001b[0m\u001b[01;34mbiophys_components\u001b[0m/  \u001b[01;34mgraphs\u001b[0m/   \u001b[01;34mnotes\u001b[0m/           plotting.py       run_bionet.py\n",
            "build_network.py     \u001b[01;34mimages\u001b[0m/   \u001b[01;34moutput\u001b[0m/          \u001b[01;34m__pycache__\u001b[0m/      run.sh\n",
            "\u001b[01;34merror_logs\u001b[0m/          \u001b[01;34mjsons\u001b[0m/    plot_results.py  README.md         spikes.csv\n",
            "feedback_loop.py     \u001b[01;34mnetwork\u001b[0m/  plotting.pkl     requirements.txt  synapses.py\n"
          ]
        }
      ]
    },
    {
      "cell_type": "code",
      "source": [
        "# Build Network\n",
        "\n",
        "import numpy as np\n",
        "from bmtk.builder.networks import NetworkBuilder\n",
        "import math\n",
        "import random\n",
        "\n",
        "output_dir='network'\n",
        "\n",
        "#######################################################################\n",
        "##################### Create the cells ################################\n",
        "#######################################################################\n",
        "print(\"\\nCreating Cells\")\n",
        "\n",
        "# Build the main network\n",
        "net = NetworkBuilder('LUT_TOY')\n",
        "\n",
        "# Specify number of cells in each population #\n",
        "\n",
        "numPGN  = 1\n",
        "#numBladaff  = 1\n",
        "\n",
        "# Create the nodes ----------------------------------------\n",
        "net.add_nodes(N=numPGN, level='low',pop_name='PGN',model_type='biophysical',model_template='hoc:PGN',morphology='blank.swc')\n",
        "#net.add_nodes(N=numBladaff, level='high',pop_name='Bladaff',model_type='point_process', model_template= 'nrn:IntFire1', morphology='NULL', dynamics_params = 'IntFire1_exc_1.json')\n",
        "\n",
        "####################################################################################\n",
        "########################## Build and save network ##################################\n",
        "####################################################################################\n",
        "\n",
        "print(\"\\nBuilding network and saving to directory \\\"\" + output_dir + \"\\\"\")\n",
        "net.build()\n",
        "\n",
        "net.save_nodes(output_dir=output_dir)\n",
        "#net.save_edges(output_dir=output_dir)\n",
        "\n",
        "print(\"Done\")"
      ],
      "metadata": {
        "colab": {
          "base_uri": "https://localhost:8080/"
        },
        "id": "OwFAcOVDTxGn",
        "outputId": "a2c292cb-640a-4dd7-fd34-7d3801f8a123"
      },
      "execution_count": 4,
      "outputs": [
        {
          "output_type": "stream",
          "name": "stdout",
          "text": [
            "\n",
            "Creating Cells\n",
            "\n",
            "Building network and saving to directory \"network\"\n",
            "Done\n"
          ]
        }
      ]
    },
    {
      "cell_type": "code",
      "source": [
        "# Run BioNet\n",
        "\n",
        "import os, sys, logging, faulthandler\n",
        "from bmtk.simulator import bionet\n",
        "from bmtk.simulator.bionet.default_setters.cell_models import loadHOC\n",
        "from bmtk.simulator.bionet.modules.sim_module import SimulatorMod\n",
        "from bmtk.utils.reports.spike_trains import SpikeTrains\n",
        "from bmtk.utils.reports.spike_trains import PoissonSpikeGenerator\n",
        "from bmtk.simulator.bionet.io_tools import io\n",
        "import numpy as np\n",
        "from neuron import h\n",
        "import pandas as pd\n",
        "# from bmtk.analyzer.cell_vars import plot_report\n",
        "from feedback_loop import FeedBackLoop\n",
        "from plotting import plot_figure, plotting_calculator\n",
        "# Import the synaptic depression/facilitation model\n",
        "import synapses\n",
        "\n",
        "import plot_results\n",
        "\n",
        "\n",
        "\"\"\"\n",
        "Basic Logging features, disable faulthandler if you don't want stacktraces printed\n",
        "logging determines the level and file to save logs to (might be worth moving location)\n",
        "\"\"\"\n",
        "faulthandler.enable()\n",
        "logging.basicConfig(filename='error_logs/debug_run.log', level=logging.DEBUG)\n",
        "\n",
        "synapses.load()\n",
        "logging.info('Synapses Loaded')\n",
        "\n",
        "press_thres = 17 # cm H20 #40\n",
        "                 # Lingala, et al. 2016\n",
        "change_thres = 10 # cm H20 #10\n",
        "                 # Need biological value for this\n",
        "\n",
        "bionet.pyfunction_cache.add_cell_model(loadHOC, directive='hoc', model_type='biophysical')\n",
        "logging.info('Cell model added')\n",
        "\n",
        "def run(config_file):\n",
        "    pc = h.ParallelContext()\n",
        "\n",
        "    conf = bionet.Config.from_json(config_file, validate=True)\n",
        "    conf.build_env()\n",
        "\n",
        "    fbmod = FeedBackLoop()\n",
        "\n",
        "    graph = bionet.BioNetwork.from_config(conf)\n",
        "    sim = bionet.BioSimulator.from_config(conf, network=graph)\n",
        "    sim.add_mod(fbmod)  # Attach the above module to the simulator.\n",
        "    sim.run();\n",
        "\n",
        "    pc.barrier();\n",
        "    pc.gid_clear()\n",
        "    pc.done()\n",
        "\n",
        "    plot_results.run(sim=sim,conf=conf)\n",
        "\n",
        "# if __name__ == '__main__':\n",
        "#     if __file__ != sys.argv[-1]:\n",
        "#         run(sys.argv[-1])\n",
        "#     else:\n",
        "#         run('config.json')\n",
        "\n",
        "# run('config.json')\n",
        "run(config_file='jsons/simulation_config.json')\n",
        "# run(config_file='/content/LUT_singlecell/jsons/simulation_config.json')"
      ],
      "metadata": {
        "colab": {
          "base_uri": "https://localhost:8080/",
          "height": 1000
        },
        "id": "9xzuzq-dUK6A",
        "outputId": "5788d9f3-09be-4a9e-fbe6-cc7e20933c92"
      },
      "execution_count": 5,
      "outputs": [
        {
          "output_type": "stream",
          "name": "stdout",
          "text": [
            "2023-04-10 19:22:50,523 [INFO] Created log file\n"
          ]
        },
        {
          "output_type": "stream",
          "name": "stderr",
          "text": [
            "INFO:NEURONIOUtils:Created log file\n"
          ]
        },
        {
          "output_type": "stream",
          "name": "stdout",
          "text": [
            "2023-04-10 19:22:50,668 [INFO] Building cells.\n"
          ]
        },
        {
          "output_type": "stream",
          "name": "stderr",
          "text": [
            "INFO:NEURONIOUtils:Building cells.\n"
          ]
        },
        {
          "output_type": "stream",
          "name": "stdout",
          "text": [
            "2023-04-10 19:22:50,674 [INFO] Building recurrent connections\n"
          ]
        },
        {
          "output_type": "stream",
          "name": "stderr",
          "text": [
            "INFO:NEURONIOUtils:Building recurrent connections\n"
          ]
        },
        {
          "output_type": "stream",
          "name": "stdout",
          "text": [
            "{0: <bmtk.simulator.bionet.biocell.BioCell object at 0x7fdcaf94a7f0>}\n",
            "2023-04-10 19:22:50,693 [INFO] Running simulation for 60500.000 ms with the time step 0.100 ms\n"
          ]
        },
        {
          "output_type": "stream",
          "name": "stderr",
          "text": [
            "INFO:NEURONIOUtils:Running simulation for 60500.000 ms with the time step 0.100 ms\n"
          ]
        },
        {
          "output_type": "stream",
          "name": "stdout",
          "text": [
            "2023-04-10 19:22:50,699 [INFO] Starting timestep: 0 at t_sim: 0.000 ms\n"
          ]
        },
        {
          "output_type": "stream",
          "name": "stderr",
          "text": [
            "INFO:NEURONIOUtils:Starting timestep: 0 at t_sim: 0.000 ms\n"
          ]
        },
        {
          "output_type": "stream",
          "name": "stdout",
          "text": [
            "2023-04-10 19:22:50,706 [INFO] Block save every 10000 steps\n"
          ]
        },
        {
          "output_type": "stream",
          "name": "stderr",
          "text": [
            "INFO:NEURONIOUtils:Block save every 10000 steps\n"
          ]
        },
        {
          "output_type": "stream",
          "name": "stdout",
          "text": [
            "2023-04-10 19:22:51,251 [INFO]     step:10000 t_sim:1000.00 ms\n"
          ]
        },
        {
          "output_type": "stream",
          "name": "stderr",
          "text": [
            "INFO:NEURONIOUtils:    step:10000 t_sim:1000.00 ms\n"
          ]
        },
        {
          "output_type": "stream",
          "name": "stdout",
          "text": [
            "Caclulating firing rates for times 0.0 to 1000.0 ms\n",
            "node_id\tHz\n",
            "0\t\t0.0\n",
            "firing rate avg: 0.0\n",
            "Grill PGN fr = 0.0 Hz\n",
            "Calculated Bladder Afferent Firing Rate: 5.0\n",
            "HEllo: \n",
            " [1061.3127535  1261.08510125 1451.57513415 1673.56640963 1841.34240017\n",
            " 2000.        ]\n",
            "2023-04-10 19:22:51,277 [INFO] PGN firing rate = 0.00 Hz\n"
          ]
        },
        {
          "output_type": "stream",
          "name": "stderr",
          "text": [
            "INFO:NEURONIOUtils:PGN firing rate = 0.00 Hz\n"
          ]
        },
        {
          "output_type": "stream",
          "name": "stdout",
          "text": [
            "2023-04-10 19:22:51,282 [INFO] Volume = 0.05 ml\n"
          ]
        },
        {
          "output_type": "stream",
          "name": "stderr",
          "text": [
            "INFO:NEURONIOUtils:Volume = 0.05 ml\n"
          ]
        },
        {
          "output_type": "stream",
          "name": "stdout",
          "text": [
            "2023-04-10 19:22:51,288 [INFO] Pressure = 0.00 cm H20\n"
          ]
        },
        {
          "output_type": "stream",
          "name": "stderr",
          "text": [
            "INFO:NEURONIOUtils:Pressure = 0.00 cm H20\n"
          ]
        },
        {
          "output_type": "stream",
          "name": "stdout",
          "text": [
            "2023-04-10 19:22:51,292 [INFO] Bladder afferent firing rate = 5.00 Hz\n"
          ]
        },
        {
          "output_type": "stream",
          "name": "stderr",
          "text": [
            "INFO:NEURONIOUtils:Bladder afferent firing rate = 5.00 Hz\n"
          ]
        },
        {
          "output_type": "stream",
          "name": "stdout",
          "text": [
            "2023-04-10 19:22:51,838 [INFO]     step:20000 t_sim:2000.00 ms\n"
          ]
        },
        {
          "output_type": "stream",
          "name": "stderr",
          "text": [
            "INFO:NEURONIOUtils:    step:20000 t_sim:2000.00 ms\n"
          ]
        },
        {
          "output_type": "stream",
          "name": "stdout",
          "text": [
            "Caclulating firing rates for times 1000.0 to 2000.0 ms\n",
            "node_id\tHz\n",
            "0\t\t5.0\n",
            "firing rate avg: 5.0\n",
            "Grill PGN fr = 7.925000000000001 Hz\n",
            "Calculated Bladder Afferent Firing Rate: 5.0\n",
            "HEllo: \n",
            " [2407.29498679 2426.25537597 2548.16087374 2596.13016651 2794.77519823\n",
            " 2915.72980254 3000.        ]\n",
            "2023-04-10 19:22:51,855 [INFO] PGN firing rate = 5.00 Hz\n"
          ]
        },
        {
          "output_type": "stream",
          "name": "stderr",
          "text": [
            "INFO:NEURONIOUtils:PGN firing rate = 5.00 Hz\n"
          ]
        },
        {
          "output_type": "stream",
          "name": "stdout",
          "text": [
            "2023-04-10 19:22:51,859 [INFO] Volume = 0.07 ml\n"
          ]
        },
        {
          "output_type": "stream",
          "name": "stderr",
          "text": [
            "INFO:NEURONIOUtils:Volume = 0.07 ml\n"
          ]
        },
        {
          "output_type": "stream",
          "name": "stdout",
          "text": [
            "2023-04-10 19:22:51,864 [INFO] Pressure = 0.00 cm H20\n"
          ]
        },
        {
          "output_type": "stream",
          "name": "stderr",
          "text": [
            "INFO:NEURONIOUtils:Pressure = 0.00 cm H20\n"
          ]
        },
        {
          "output_type": "stream",
          "name": "stdout",
          "text": [
            "2023-04-10 19:22:51,866 [INFO] Bladder afferent firing rate = 5.00 Hz\n"
          ]
        },
        {
          "output_type": "stream",
          "name": "stderr",
          "text": [
            "INFO:NEURONIOUtils:Bladder afferent firing rate = 5.00 Hz\n"
          ]
        },
        {
          "output_type": "stream",
          "name": "stdout",
          "text": [
            "2023-04-10 19:22:52,366 [INFO]     step:30000 t_sim:3000.00 ms\n"
          ]
        },
        {
          "output_type": "stream",
          "name": "stderr",
          "text": [
            "INFO:NEURONIOUtils:    step:30000 t_sim:3000.00 ms\n"
          ]
        },
        {
          "output_type": "stream",
          "name": "stdout",
          "text": [
            "Caclulating firing rates for times 2000.0 to 3000.0 ms\n",
            "node_id\tHz\n",
            "0\t\t7.0\n",
            "firing rate avg: 7.0\n",
            "Grill PGN fr = 11.169 Hz\n",
            "Calculated Bladder Afferent Firing Rate: 5.0\n",
            "HEllo: \n",
            " [3157.92582431 3345.84556773 3485.73099736 3588.68701178 3868.41402973\n",
            " 4000.        ]\n",
            "2023-04-10 19:22:52,387 [INFO] PGN firing rate = 7.00 Hz\n"
          ]
        },
        {
          "output_type": "stream",
          "name": "stderr",
          "text": [
            "INFO:NEURONIOUtils:PGN firing rate = 7.00 Hz\n"
          ]
        },
        {
          "output_type": "stream",
          "name": "stdout",
          "text": [
            "2023-04-10 19:22:52,394 [INFO] Volume = 0.08 ml\n"
          ]
        },
        {
          "output_type": "stream",
          "name": "stderr",
          "text": [
            "INFO:NEURONIOUtils:Volume = 0.08 ml\n"
          ]
        },
        {
          "output_type": "stream",
          "name": "stdout",
          "text": [
            "2023-04-10 19:22:52,398 [INFO] Pressure = 0.00 cm H20\n"
          ]
        },
        {
          "output_type": "stream",
          "name": "stderr",
          "text": [
            "INFO:NEURONIOUtils:Pressure = 0.00 cm H20\n"
          ]
        },
        {
          "output_type": "stream",
          "name": "stdout",
          "text": [
            "2023-04-10 19:22:52,404 [INFO] Bladder afferent firing rate = 5.00 Hz\n"
          ]
        },
        {
          "output_type": "stream",
          "name": "stderr",
          "text": [
            "INFO:NEURONIOUtils:Bladder afferent firing rate = 5.00 Hz\n"
          ]
        },
        {
          "output_type": "stream",
          "name": "stdout",
          "text": [
            "2023-04-10 19:22:52,937 [INFO]     step:40000 t_sim:4000.00 ms\n"
          ]
        },
        {
          "output_type": "stream",
          "name": "stderr",
          "text": [
            "INFO:NEURONIOUtils:    step:40000 t_sim:4000.00 ms\n"
          ]
        },
        {
          "output_type": "stream",
          "name": "stdout",
          "text": [
            "Caclulating firing rates for times 3000.0 to 4000.0 ms\n",
            "node_id\tHz\n",
            "0\t\t6.0\n",
            "firing rate avg: 6.0\n",
            "Grill PGN fr = 9.544 Hz\n",
            "Calculated Bladder Afferent Firing Rate: 5.0\n",
            "HEllo: \n",
            " [4477.76132868 4538.58892983 4577.29699091 4614.8301362  5000.        ]\n",
            "2023-04-10 19:22:52,960 [INFO] PGN firing rate = 6.00 Hz\n"
          ]
        },
        {
          "output_type": "stream",
          "name": "stderr",
          "text": [
            "INFO:NEURONIOUtils:PGN firing rate = 6.00 Hz\n"
          ]
        },
        {
          "output_type": "stream",
          "name": "stdout",
          "text": [
            "2023-04-10 19:22:52,968 [INFO] Volume = 0.10 ml\n"
          ]
        },
        {
          "output_type": "stream",
          "name": "stderr",
          "text": [
            "INFO:NEURONIOUtils:Volume = 0.10 ml\n"
          ]
        },
        {
          "output_type": "stream",
          "name": "stdout",
          "text": [
            "2023-04-10 19:22:52,976 [INFO] Pressure = 0.00 cm H20\n"
          ]
        },
        {
          "output_type": "stream",
          "name": "stderr",
          "text": [
            "INFO:NEURONIOUtils:Pressure = 0.00 cm H20\n"
          ]
        },
        {
          "output_type": "stream",
          "name": "stdout",
          "text": [
            "2023-04-10 19:22:52,979 [INFO] Bladder afferent firing rate = 5.00 Hz\n"
          ]
        },
        {
          "output_type": "stream",
          "name": "stderr",
          "text": [
            "INFO:NEURONIOUtils:Bladder afferent firing rate = 5.00 Hz\n"
          ]
        },
        {
          "output_type": "stream",
          "name": "stdout",
          "text": [
            "2023-04-10 19:22:53,504 [INFO]     step:50000 t_sim:5000.00 ms\n"
          ]
        },
        {
          "output_type": "stream",
          "name": "stderr",
          "text": [
            "INFO:NEURONIOUtils:    step:50000 t_sim:5000.00 ms\n"
          ]
        },
        {
          "output_type": "stream",
          "name": "stdout",
          "text": [
            "Caclulating firing rates for times 4000.0 to 5000.0 ms\n",
            "node_id\tHz\n",
            "0\t\t5.0\n",
            "firing rate avg: 5.0\n",
            "Grill PGN fr = 7.925000000000001 Hz\n",
            "Calculated Bladder Afferent Firing Rate: 5.0\n",
            "HEllo: \n",
            " [5345.59985516 5554.07561369 6000.        ]\n",
            "2023-04-10 19:22:53,529 [INFO] PGN firing rate = 5.00 Hz\n"
          ]
        },
        {
          "output_type": "stream",
          "name": "stderr",
          "text": [
            "INFO:NEURONIOUtils:PGN firing rate = 5.00 Hz\n"
          ]
        },
        {
          "output_type": "stream",
          "name": "stdout",
          "text": [
            "2023-04-10 19:22:53,537 [INFO] Volume = 0.12 ml\n"
          ]
        },
        {
          "output_type": "stream",
          "name": "stderr",
          "text": [
            "INFO:NEURONIOUtils:Volume = 0.12 ml\n"
          ]
        },
        {
          "output_type": "stream",
          "name": "stdout",
          "text": [
            "2023-04-10 19:22:53,541 [INFO] Pressure = 0.00 cm H20\n"
          ]
        },
        {
          "output_type": "stream",
          "name": "stderr",
          "text": [
            "INFO:NEURONIOUtils:Pressure = 0.00 cm H20\n"
          ]
        },
        {
          "output_type": "stream",
          "name": "stdout",
          "text": [
            "2023-04-10 19:22:53,544 [INFO] Bladder afferent firing rate = 5.00 Hz\n"
          ]
        },
        {
          "output_type": "stream",
          "name": "stderr",
          "text": [
            "INFO:NEURONIOUtils:Bladder afferent firing rate = 5.00 Hz\n"
          ]
        },
        {
          "output_type": "stream",
          "name": "stdout",
          "text": [
            "2023-04-10 19:22:53,932 [INFO]     step:60000 t_sim:6000.00 ms\n"
          ]
        },
        {
          "output_type": "stream",
          "name": "stderr",
          "text": [
            "INFO:NEURONIOUtils:    step:60000 t_sim:6000.00 ms\n"
          ]
        },
        {
          "output_type": "stream",
          "name": "stdout",
          "text": [
            "Caclulating firing rates for times 5000.0 to 6000.0 ms\n",
            "node_id\tHz\n",
            "0\t\t3.0\n",
            "firing rate avg: 3.0\n",
            "Grill PGN fr = 4.657 Hz\n",
            "Calculated Bladder Afferent Firing Rate: 5.0\n",
            "HEllo: \n",
            " [7000.]\n",
            "2023-04-10 19:22:53,948 [INFO] PGN firing rate = 3.00 Hz\n"
          ]
        },
        {
          "output_type": "stream",
          "name": "stderr",
          "text": [
            "INFO:NEURONIOUtils:PGN firing rate = 3.00 Hz\n"
          ]
        },
        {
          "output_type": "stream",
          "name": "stdout",
          "text": [
            "2023-04-10 19:22:53,952 [INFO] Volume = 0.13 ml\n"
          ]
        },
        {
          "output_type": "stream",
          "name": "stderr",
          "text": [
            "INFO:NEURONIOUtils:Volume = 0.13 ml\n"
          ]
        },
        {
          "output_type": "stream",
          "name": "stdout",
          "text": [
            "2023-04-10 19:22:53,956 [INFO] Pressure = 0.00 cm H20\n"
          ]
        },
        {
          "output_type": "stream",
          "name": "stderr",
          "text": [
            "INFO:NEURONIOUtils:Pressure = 0.00 cm H20\n"
          ]
        },
        {
          "output_type": "stream",
          "name": "stdout",
          "text": [
            "2023-04-10 19:22:53,959 [INFO] Bladder afferent firing rate = 5.00 Hz\n"
          ]
        },
        {
          "output_type": "stream",
          "name": "stderr",
          "text": [
            "INFO:NEURONIOUtils:Bladder afferent firing rate = 5.00 Hz\n"
          ]
        },
        {
          "output_type": "stream",
          "name": "stdout",
          "text": [
            "2023-04-10 19:22:54,335 [INFO]     step:70000 t_sim:7000.00 ms\n"
          ]
        },
        {
          "output_type": "stream",
          "name": "stderr",
          "text": [
            "INFO:NEURONIOUtils:    step:70000 t_sim:7000.00 ms\n"
          ]
        },
        {
          "output_type": "stream",
          "name": "stdout",
          "text": [
            "Caclulating firing rates for times 6000.0 to 7000.0 ms\n",
            "node_id\tHz\n",
            "0\t\t1.0\n",
            "firing rate avg: 1.0\n",
            "Grill PGN fr = 1.2690000000000001 Hz\n",
            "Calculated Bladder Afferent Firing Rate: 5.0\n",
            "HEllo: \n",
            " [7015.30931735 7086.73512353 7554.13579241 7809.7829668  8000.        ]\n",
            "2023-04-10 19:22:54,350 [INFO] PGN firing rate = 1.00 Hz\n"
          ]
        },
        {
          "output_type": "stream",
          "name": "stderr",
          "text": [
            "INFO:NEURONIOUtils:PGN firing rate = 1.00 Hz\n"
          ]
        },
        {
          "output_type": "stream",
          "name": "stdout",
          "text": [
            "2023-04-10 19:22:54,355 [INFO] Volume = 0.15 ml\n"
          ]
        },
        {
          "output_type": "stream",
          "name": "stderr",
          "text": [
            "INFO:NEURONIOUtils:Volume = 0.15 ml\n"
          ]
        },
        {
          "output_type": "stream",
          "name": "stdout",
          "text": [
            "2023-04-10 19:22:54,360 [INFO] Pressure = 0.00 cm H20\n"
          ]
        },
        {
          "output_type": "stream",
          "name": "stderr",
          "text": [
            "INFO:NEURONIOUtils:Pressure = 0.00 cm H20\n"
          ]
        },
        {
          "output_type": "stream",
          "name": "stdout",
          "text": [
            "2023-04-10 19:22:54,363 [INFO] Bladder afferent firing rate = 5.00 Hz\n"
          ]
        },
        {
          "output_type": "stream",
          "name": "stderr",
          "text": [
            "INFO:NEURONIOUtils:Bladder afferent firing rate = 5.00 Hz\n"
          ]
        },
        {
          "output_type": "stream",
          "name": "stdout",
          "text": [
            "2023-04-10 19:22:54,711 [INFO]     step:80000 t_sim:8000.00 ms\n"
          ]
        },
        {
          "output_type": "stream",
          "name": "stderr",
          "text": [
            "INFO:NEURONIOUtils:    step:80000 t_sim:8000.00 ms\n"
          ]
        },
        {
          "output_type": "stream",
          "name": "stdout",
          "text": [
            "Caclulating firing rates for times 7000.0 to 8000.0 ms\n",
            "node_id\tHz\n",
            "0\t\t5.0\n",
            "firing rate avg: 5.0\n",
            "Grill PGN fr = 7.925000000000001 Hz\n",
            "Calculated Bladder Afferent Firing Rate: 5.0\n",
            "HEllo: \n",
            " [8010.84113215 8181.46314779 8402.38788933 8536.99974068 8721.96089688\n",
            " 9000.        ]\n",
            "2023-04-10 19:22:54,729 [INFO] PGN firing rate = 5.00 Hz\n"
          ]
        },
        {
          "output_type": "stream",
          "name": "stderr",
          "text": [
            "INFO:NEURONIOUtils:PGN firing rate = 5.00 Hz\n"
          ]
        },
        {
          "output_type": "stream",
          "name": "stdout",
          "text": [
            "2023-04-10 19:22:54,735 [INFO] Volume = 0.17 ml\n"
          ]
        },
        {
          "output_type": "stream",
          "name": "stderr",
          "text": [
            "INFO:NEURONIOUtils:Volume = 0.17 ml\n"
          ]
        },
        {
          "output_type": "stream",
          "name": "stdout",
          "text": [
            "2023-04-10 19:22:54,737 [INFO] Pressure = 0.00 cm H20\n"
          ]
        },
        {
          "output_type": "stream",
          "name": "stderr",
          "text": [
            "INFO:NEURONIOUtils:Pressure = 0.00 cm H20\n"
          ]
        },
        {
          "output_type": "stream",
          "name": "stdout",
          "text": [
            "2023-04-10 19:22:54,740 [INFO] Bladder afferent firing rate = 5.00 Hz\n"
          ]
        },
        {
          "output_type": "stream",
          "name": "stderr",
          "text": [
            "INFO:NEURONIOUtils:Bladder afferent firing rate = 5.00 Hz\n"
          ]
        },
        {
          "output_type": "stream",
          "name": "stdout",
          "text": [
            "2023-04-10 19:22:55,095 [INFO]     step:90000 t_sim:9000.00 ms\n"
          ]
        },
        {
          "output_type": "stream",
          "name": "stderr",
          "text": [
            "INFO:NEURONIOUtils:    step:90000 t_sim:9000.00 ms\n"
          ]
        },
        {
          "output_type": "stream",
          "name": "stdout",
          "text": [
            "Caclulating firing rates for times 8000.0 to 9000.0 ms\n",
            "node_id\tHz\n",
            "0\t\t6.0\n",
            "firing rate avg: 6.0\n",
            "Grill PGN fr = 9.544 Hz\n",
            "Calculated Bladder Afferent Firing Rate: 5.0\n",
            "HEllo: \n",
            " [ 9030.60354288  9262.20576233  9293.92855195  9505.37641402\n",
            "  9564.40792322  9816.26275668  9927.01775862 10000.        ]\n",
            "2023-04-10 19:22:55,117 [INFO] PGN firing rate = 6.00 Hz\n"
          ]
        },
        {
          "output_type": "stream",
          "name": "stderr",
          "text": [
            "INFO:NEURONIOUtils:PGN firing rate = 6.00 Hz\n"
          ]
        },
        {
          "output_type": "stream",
          "name": "stdout",
          "text": [
            "2023-04-10 19:22:55,124 [INFO] Volume = 0.18 ml\n"
          ]
        },
        {
          "output_type": "stream",
          "name": "stderr",
          "text": [
            "INFO:NEURONIOUtils:Volume = 0.18 ml\n"
          ]
        },
        {
          "output_type": "stream",
          "name": "stdout",
          "text": [
            "2023-04-10 19:22:55,126 [INFO] Pressure = 0.00 cm H20\n"
          ]
        },
        {
          "output_type": "stream",
          "name": "stderr",
          "text": [
            "INFO:NEURONIOUtils:Pressure = 0.00 cm H20\n"
          ]
        },
        {
          "output_type": "stream",
          "name": "stdout",
          "text": [
            "2023-04-10 19:22:55,128 [INFO] Bladder afferent firing rate = 5.00 Hz\n"
          ]
        },
        {
          "output_type": "stream",
          "name": "stderr",
          "text": [
            "INFO:NEURONIOUtils:Bladder afferent firing rate = 5.00 Hz\n"
          ]
        },
        {
          "output_type": "stream",
          "name": "stdout",
          "text": [
            "2023-04-10 19:22:55,505 [INFO]     step:100000 t_sim:10000.00 ms\n"
          ]
        },
        {
          "output_type": "stream",
          "name": "stderr",
          "text": [
            "INFO:NEURONIOUtils:    step:100000 t_sim:10000.00 ms\n"
          ]
        },
        {
          "output_type": "stream",
          "name": "stdout",
          "text": [
            "Caclulating firing rates for times 9000.0 to 10000.0 ms\n",
            "node_id\tHz\n",
            "0\t\t8.0\n",
            "firing rate avg: 8.0\n",
            "Grill PGN fr = 12.812000000000001 Hz\n",
            "Calculated Bladder Afferent Firing Rate: 5.0\n",
            "HEllo: \n",
            " [10158.06493386 10263.86169061 10271.37186248 11000.        ]\n",
            "2023-04-10 19:22:55,524 [INFO] PGN firing rate = 8.00 Hz\n"
          ]
        },
        {
          "output_type": "stream",
          "name": "stderr",
          "text": [
            "INFO:NEURONIOUtils:PGN firing rate = 8.00 Hz\n"
          ]
        },
        {
          "output_type": "stream",
          "name": "stdout",
          "text": [
            "2023-04-10 19:22:55,527 [INFO] Volume = 0.20 ml\n"
          ]
        },
        {
          "output_type": "stream",
          "name": "stderr",
          "text": [
            "INFO:NEURONIOUtils:Volume = 0.20 ml\n"
          ]
        },
        {
          "output_type": "stream",
          "name": "stdout",
          "text": [
            "2023-04-10 19:22:55,530 [INFO] Pressure = 0.00 cm H20\n"
          ]
        },
        {
          "output_type": "stream",
          "name": "stderr",
          "text": [
            "INFO:NEURONIOUtils:Pressure = 0.00 cm H20\n"
          ]
        },
        {
          "output_type": "stream",
          "name": "stdout",
          "text": [
            "2023-04-10 19:22:55,533 [INFO] Bladder afferent firing rate = 5.00 Hz\n"
          ]
        },
        {
          "output_type": "stream",
          "name": "stderr",
          "text": [
            "INFO:NEURONIOUtils:Bladder afferent firing rate = 5.00 Hz\n"
          ]
        },
        {
          "output_type": "stream",
          "name": "stdout",
          "text": [
            "2023-04-10 19:22:55,878 [INFO]     step:110000 t_sim:11000.00 ms\n"
          ]
        },
        {
          "output_type": "stream",
          "name": "stderr",
          "text": [
            "INFO:NEURONIOUtils:    step:110000 t_sim:11000.00 ms\n"
          ]
        },
        {
          "output_type": "stream",
          "name": "stdout",
          "text": [
            "Caclulating firing rates for times 10000.0 to 11000.0 ms\n",
            "node_id\tHz\n",
            "0\t\t3.0\n",
            "firing rate avg: 3.0\n",
            "Grill PGN fr = 4.657 Hz\n",
            "Calculated Bladder Afferent Firing Rate: 5.0\n",
            "HEllo: \n",
            " [11047.21450837 11365.21386597 11790.80861144 11824.00568941\n",
            " 12000.        ]\n",
            "2023-04-10 19:22:55,894 [INFO] PGN firing rate = 3.00 Hz\n"
          ]
        },
        {
          "output_type": "stream",
          "name": "stderr",
          "text": [
            "INFO:NEURONIOUtils:PGN firing rate = 3.00 Hz\n"
          ]
        },
        {
          "output_type": "stream",
          "name": "stdout",
          "text": [
            "2023-04-10 19:22:55,898 [INFO] Volume = 0.22 ml\n"
          ]
        },
        {
          "output_type": "stream",
          "name": "stderr",
          "text": [
            "INFO:NEURONIOUtils:Volume = 0.22 ml\n"
          ]
        },
        {
          "output_type": "stream",
          "name": "stdout",
          "text": [
            "2023-04-10 19:22:55,902 [INFO] Pressure = 0.00 cm H20\n"
          ]
        },
        {
          "output_type": "stream",
          "name": "stderr",
          "text": [
            "INFO:NEURONIOUtils:Pressure = 0.00 cm H20\n"
          ]
        },
        {
          "output_type": "stream",
          "name": "stdout",
          "text": [
            "2023-04-10 19:22:55,906 [INFO] Bladder afferent firing rate = 5.00 Hz\n"
          ]
        },
        {
          "output_type": "stream",
          "name": "stderr",
          "text": [
            "INFO:NEURONIOUtils:Bladder afferent firing rate = 5.00 Hz\n"
          ]
        },
        {
          "output_type": "stream",
          "name": "stdout",
          "text": [
            "2023-04-10 19:22:56,255 [INFO]     step:120000 t_sim:12000.00 ms\n"
          ]
        },
        {
          "output_type": "stream",
          "name": "stderr",
          "text": [
            "INFO:NEURONIOUtils:    step:120000 t_sim:12000.00 ms\n"
          ]
        },
        {
          "output_type": "stream",
          "name": "stdout",
          "text": [
            "Caclulating firing rates for times 11000.0 to 12000.0 ms\n",
            "node_id\tHz\n",
            "0\t\t5.0\n",
            "firing rate avg: 5.0\n",
            "Grill PGN fr = 7.925000000000001 Hz\n",
            "Calculated Bladder Afferent Firing Rate: 5.0\n",
            "HEllo: \n",
            " [12321.26102081 12449.79134131 12721.14124721 12809.40282542\n",
            " 12940.7809805  13000.        ]\n",
            "2023-04-10 19:22:56,274 [INFO] PGN firing rate = 5.00 Hz\n"
          ]
        },
        {
          "output_type": "stream",
          "name": "stderr",
          "text": [
            "INFO:NEURONIOUtils:PGN firing rate = 5.00 Hz\n"
          ]
        },
        {
          "output_type": "stream",
          "name": "stdout",
          "text": [
            "2023-04-10 19:22:56,277 [INFO] Volume = 0.23 ml\n"
          ]
        },
        {
          "output_type": "stream",
          "name": "stderr",
          "text": [
            "INFO:NEURONIOUtils:Volume = 0.23 ml\n"
          ]
        },
        {
          "output_type": "stream",
          "name": "stdout",
          "text": [
            "2023-04-10 19:22:56,284 [INFO] Pressure = 0.00 cm H20\n"
          ]
        },
        {
          "output_type": "stream",
          "name": "stderr",
          "text": [
            "INFO:NEURONIOUtils:Pressure = 0.00 cm H20\n"
          ]
        },
        {
          "output_type": "stream",
          "name": "stdout",
          "text": [
            "2023-04-10 19:22:56,286 [INFO] Bladder afferent firing rate = 5.00 Hz\n"
          ]
        },
        {
          "output_type": "stream",
          "name": "stderr",
          "text": [
            "INFO:NEURONIOUtils:Bladder afferent firing rate = 5.00 Hz\n"
          ]
        },
        {
          "output_type": "stream",
          "name": "stdout",
          "text": [
            "2023-04-10 19:22:56,636 [INFO]     step:130000 t_sim:13000.00 ms\n"
          ]
        },
        {
          "output_type": "stream",
          "name": "stderr",
          "text": [
            "INFO:NEURONIOUtils:    step:130000 t_sim:13000.00 ms\n"
          ]
        },
        {
          "output_type": "stream",
          "name": "stdout",
          "text": [
            "Caclulating firing rates for times 12000.0 to 13000.0 ms\n",
            "node_id\tHz\n",
            "0\t\t6.0\n",
            "firing rate avg: 6.0\n",
            "Grill PGN fr = 9.544 Hz\n",
            "Calculated Bladder Afferent Firing Rate: 5.0\n",
            "HEllo: \n",
            " [13657.58661986 13666.829673   13678.60526154 13855.75788548\n",
            " 13987.40268002 14000.        ]\n",
            "2023-04-10 19:22:56,655 [INFO] PGN firing rate = 6.00 Hz\n"
          ]
        },
        {
          "output_type": "stream",
          "name": "stderr",
          "text": [
            "INFO:NEURONIOUtils:PGN firing rate = 6.00 Hz\n"
          ]
        },
        {
          "output_type": "stream",
          "name": "stdout",
          "text": [
            "2023-04-10 19:22:56,661 [INFO] Volume = 0.25 ml\n"
          ]
        },
        {
          "output_type": "stream",
          "name": "stderr",
          "text": [
            "INFO:NEURONIOUtils:Volume = 0.25 ml\n"
          ]
        },
        {
          "output_type": "stream",
          "name": "stdout",
          "text": [
            "2023-04-10 19:22:56,664 [INFO] Pressure = 0.00 cm H20\n"
          ]
        },
        {
          "output_type": "stream",
          "name": "stderr",
          "text": [
            "INFO:NEURONIOUtils:Pressure = 0.00 cm H20\n"
          ]
        },
        {
          "output_type": "stream",
          "name": "stdout",
          "text": [
            "2023-04-10 19:22:56,667 [INFO] Bladder afferent firing rate = 5.00 Hz\n"
          ]
        },
        {
          "output_type": "stream",
          "name": "stderr",
          "text": [
            "INFO:NEURONIOUtils:Bladder afferent firing rate = 5.00 Hz\n"
          ]
        },
        {
          "output_type": "stream",
          "name": "stdout",
          "text": [
            "2023-04-10 19:22:57,011 [INFO]     step:140000 t_sim:14000.00 ms\n"
          ]
        },
        {
          "output_type": "stream",
          "name": "stderr",
          "text": [
            "INFO:NEURONIOUtils:    step:140000 t_sim:14000.00 ms\n"
          ]
        },
        {
          "output_type": "stream",
          "name": "stdout",
          "text": [
            "Caclulating firing rates for times 13000.0 to 14000.0 ms\n",
            "node_id\tHz\n",
            "0\t\t6.0\n",
            "firing rate avg: 6.0\n",
            "Grill PGN fr = 9.544 Hz\n",
            "Calculated Bladder Afferent Firing Rate: 5.0\n",
            "HEllo: \n",
            " [14240.83001301 14452.19079581 14542.40153496 14950.49903196\n",
            " 14996.11456259 15000.        ]\n",
            "2023-04-10 19:22:57,028 [INFO] PGN firing rate = 6.00 Hz\n"
          ]
        },
        {
          "output_type": "stream",
          "name": "stderr",
          "text": [
            "INFO:NEURONIOUtils:PGN firing rate = 6.00 Hz\n"
          ]
        },
        {
          "output_type": "stream",
          "name": "stdout",
          "text": [
            "2023-04-10 19:22:57,032 [INFO] Volume = 0.27 ml\n"
          ]
        },
        {
          "output_type": "stream",
          "name": "stderr",
          "text": [
            "INFO:NEURONIOUtils:Volume = 0.27 ml\n"
          ]
        },
        {
          "output_type": "stream",
          "name": "stdout",
          "text": [
            "2023-04-10 19:22:57,036 [INFO] Pressure = 0.00 cm H20\n"
          ]
        },
        {
          "output_type": "stream",
          "name": "stderr",
          "text": [
            "INFO:NEURONIOUtils:Pressure = 0.00 cm H20\n"
          ]
        },
        {
          "output_type": "stream",
          "name": "stdout",
          "text": [
            "2023-04-10 19:22:57,039 [INFO] Bladder afferent firing rate = 5.00 Hz\n"
          ]
        },
        {
          "output_type": "stream",
          "name": "stderr",
          "text": [
            "INFO:NEURONIOUtils:Bladder afferent firing rate = 5.00 Hz\n"
          ]
        },
        {
          "output_type": "stream",
          "name": "stdout",
          "text": [
            "2023-04-10 19:22:57,400 [INFO]     step:150000 t_sim:15000.00 ms\n"
          ]
        },
        {
          "output_type": "stream",
          "name": "stderr",
          "text": [
            "INFO:NEURONIOUtils:    step:150000 t_sim:15000.00 ms\n"
          ]
        },
        {
          "output_type": "stream",
          "name": "stdout",
          "text": [
            "Caclulating firing rates for times 14000.0 to 15000.0 ms\n",
            "node_id\tHz\n",
            "0\t\t6.0\n",
            "firing rate avg: 6.0\n",
            "Grill PGN fr = 9.544 Hz\n",
            "Calculated Bladder Afferent Firing Rate: 5.0\n",
            "HEllo: \n",
            " [15471.40162562 16000.        ]\n",
            "2023-04-10 19:22:57,418 [INFO] PGN firing rate = 6.00 Hz\n"
          ]
        },
        {
          "output_type": "stream",
          "name": "stderr",
          "text": [
            "INFO:NEURONIOUtils:PGN firing rate = 6.00 Hz\n"
          ]
        },
        {
          "output_type": "stream",
          "name": "stdout",
          "text": [
            "2023-04-10 19:22:57,424 [INFO] Volume = 0.28 ml\n"
          ]
        },
        {
          "output_type": "stream",
          "name": "stderr",
          "text": [
            "INFO:NEURONIOUtils:Volume = 0.28 ml\n"
          ]
        },
        {
          "output_type": "stream",
          "name": "stdout",
          "text": [
            "2023-04-10 19:22:57,433 [INFO] Pressure = 0.41 cm H20\n"
          ]
        },
        {
          "output_type": "stream",
          "name": "stderr",
          "text": [
            "INFO:NEURONIOUtils:Pressure = 0.41 cm H20\n"
          ]
        },
        {
          "output_type": "stream",
          "name": "stdout",
          "text": [
            "2023-04-10 19:22:57,436 [INFO] Bladder afferent firing rate = 5.00 Hz\n"
          ]
        },
        {
          "output_type": "stream",
          "name": "stderr",
          "text": [
            "INFO:NEURONIOUtils:Bladder afferent firing rate = 5.00 Hz\n"
          ]
        },
        {
          "output_type": "stream",
          "name": "stdout",
          "text": [
            "2023-04-10 19:22:57,796 [INFO]     step:160000 t_sim:16000.00 ms\n"
          ]
        },
        {
          "output_type": "stream",
          "name": "stderr",
          "text": [
            "INFO:NEURONIOUtils:    step:160000 t_sim:16000.00 ms\n"
          ]
        },
        {
          "output_type": "stream",
          "name": "stdout",
          "text": [
            "Caclulating firing rates for times 15000.0 to 16000.0 ms\n",
            "node_id\tHz\n",
            "0\t\t1.0\n",
            "firing rate avg: 1.0\n",
            "Grill PGN fr = 1.2690000000000001 Hz\n",
            "Calculated Bladder Afferent Firing Rate: 5.0\n",
            "HEllo: \n",
            " [16135.36077084 16217.3670805  16588.04284736 16655.77222361\n",
            " 16753.7403528  16909.45627738 16914.94206693 17000.        ]\n",
            "2023-04-10 19:22:57,813 [INFO] PGN firing rate = 1.00 Hz\n"
          ]
        },
        {
          "output_type": "stream",
          "name": "stderr",
          "text": [
            "INFO:NEURONIOUtils:PGN firing rate = 1.00 Hz\n"
          ]
        },
        {
          "output_type": "stream",
          "name": "stdout",
          "text": [
            "2023-04-10 19:22:57,823 [INFO] Volume = 0.30 ml\n"
          ]
        },
        {
          "output_type": "stream",
          "name": "stderr",
          "text": [
            "INFO:NEURONIOUtils:Volume = 0.30 ml\n"
          ]
        },
        {
          "output_type": "stream",
          "name": "stdout",
          "text": [
            "2023-04-10 19:22:57,829 [INFO] Pressure = 0.00 cm H20\n"
          ]
        },
        {
          "output_type": "stream",
          "name": "stderr",
          "text": [
            "INFO:NEURONIOUtils:Pressure = 0.00 cm H20\n"
          ]
        },
        {
          "output_type": "stream",
          "name": "stdout",
          "text": [
            "2023-04-10 19:22:57,833 [INFO] Bladder afferent firing rate = 5.00 Hz\n"
          ]
        },
        {
          "output_type": "stream",
          "name": "stderr",
          "text": [
            "INFO:NEURONIOUtils:Bladder afferent firing rate = 5.00 Hz\n"
          ]
        },
        {
          "output_type": "stream",
          "name": "stdout",
          "text": [
            "2023-04-10 19:22:58,260 [INFO]     step:170000 t_sim:17000.00 ms\n"
          ]
        },
        {
          "output_type": "stream",
          "name": "stderr",
          "text": [
            "INFO:NEURONIOUtils:    step:170000 t_sim:17000.00 ms\n"
          ]
        },
        {
          "output_type": "stream",
          "name": "stdout",
          "text": [
            "Caclulating firing rates for times 16000.0 to 17000.0 ms\n",
            "node_id\tHz\n",
            "0\t\t7.0\n",
            "firing rate avg: 7.0\n",
            "Grill PGN fr = 11.169 Hz\n",
            "Calculated Bladder Afferent Firing Rate: 5.0\n",
            "HEllo: \n",
            " [17511.60931544 17524.04473515 17964.42116719 17975.78711774\n",
            " 17992.80813941 18000.        ]\n",
            "2023-04-10 19:22:58,280 [INFO] PGN firing rate = 7.00 Hz\n"
          ]
        },
        {
          "output_type": "stream",
          "name": "stderr",
          "text": [
            "INFO:NEURONIOUtils:PGN firing rate = 7.00 Hz\n"
          ]
        },
        {
          "output_type": "stream",
          "name": "stdout",
          "text": [
            "2023-04-10 19:22:58,288 [INFO] Volume = 0.32 ml\n"
          ]
        },
        {
          "output_type": "stream",
          "name": "stderr",
          "text": [
            "INFO:NEURONIOUtils:Volume = 0.32 ml\n"
          ]
        },
        {
          "output_type": "stream",
          "name": "stdout",
          "text": [
            "2023-04-10 19:22:58,295 [INFO] Pressure = 1.73 cm H20\n"
          ]
        },
        {
          "output_type": "stream",
          "name": "stderr",
          "text": [
            "INFO:NEURONIOUtils:Pressure = 1.73 cm H20\n"
          ]
        },
        {
          "output_type": "stream",
          "name": "stdout",
          "text": [
            "2023-04-10 19:22:58,303 [INFO] Bladder afferent firing rate = 5.00 Hz\n"
          ]
        },
        {
          "output_type": "stream",
          "name": "stderr",
          "text": [
            "INFO:NEURONIOUtils:Bladder afferent firing rate = 5.00 Hz\n"
          ]
        },
        {
          "output_type": "stream",
          "name": "stdout",
          "text": [
            "2023-04-10 19:22:58,741 [INFO]     step:180000 t_sim:18000.00 ms\n"
          ]
        },
        {
          "output_type": "stream",
          "name": "stderr",
          "text": [
            "INFO:NEURONIOUtils:    step:180000 t_sim:18000.00 ms\n"
          ]
        },
        {
          "output_type": "stream",
          "name": "stdout",
          "text": [
            "Caclulating firing rates for times 17000.0 to 18000.0 ms\n",
            "node_id\tHz\n",
            "0\t\t6.0\n",
            "firing rate avg: 6.0\n",
            "Grill PGN fr = 9.544 Hz\n",
            "Calculated Bladder Afferent Firing Rate: 5.0\n",
            "HEllo: \n",
            " [18055.24006555 18203.49499942 18894.24936531 19000.        ]\n",
            "2023-04-10 19:22:58,758 [INFO] PGN firing rate = 6.00 Hz\n"
          ]
        },
        {
          "output_type": "stream",
          "name": "stderr",
          "text": [
            "INFO:NEURONIOUtils:PGN firing rate = 6.00 Hz\n"
          ]
        },
        {
          "output_type": "stream",
          "name": "stdout",
          "text": [
            "2023-04-10 19:22:58,761 [INFO] Volume = 0.33 ml\n"
          ]
        },
        {
          "output_type": "stream",
          "name": "stderr",
          "text": [
            "INFO:NEURONIOUtils:Volume = 0.33 ml\n"
          ]
        },
        {
          "output_type": "stream",
          "name": "stdout",
          "text": [
            "2023-04-10 19:22:58,765 [INFO] Pressure = 1.91 cm H20\n"
          ]
        },
        {
          "output_type": "stream",
          "name": "stderr",
          "text": [
            "INFO:NEURONIOUtils:Pressure = 1.91 cm H20\n"
          ]
        },
        {
          "output_type": "stream",
          "name": "stdout",
          "text": [
            "2023-04-10 19:22:58,769 [INFO] Bladder afferent firing rate = 5.00 Hz\n"
          ]
        },
        {
          "output_type": "stream",
          "name": "stderr",
          "text": [
            "INFO:NEURONIOUtils:Bladder afferent firing rate = 5.00 Hz\n"
          ]
        },
        {
          "output_type": "stream",
          "name": "stdout",
          "text": [
            "2023-04-10 19:22:59,125 [INFO]     step:190000 t_sim:19000.00 ms\n"
          ]
        },
        {
          "output_type": "stream",
          "name": "stderr",
          "text": [
            "INFO:NEURONIOUtils:    step:190000 t_sim:19000.00 ms\n"
          ]
        },
        {
          "output_type": "stream",
          "name": "stdout",
          "text": [
            "Caclulating firing rates for times 18000.0 to 19000.0 ms\n",
            "node_id\tHz\n",
            "0\t\t3.0\n",
            "firing rate avg: 3.0\n",
            "Grill PGN fr = 4.657 Hz\n",
            "Calculated Bladder Afferent Firing Rate: 5.0\n",
            "HEllo: \n",
            " [19090.46870137 19280.96607966 19704.01247706 19936.82324198\n",
            " 20000.        ]\n",
            "2023-04-10 19:22:59,141 [INFO] PGN firing rate = 3.00 Hz\n"
          ]
        },
        {
          "output_type": "stream",
          "name": "stderr",
          "text": [
            "INFO:NEURONIOUtils:PGN firing rate = 3.00 Hz\n"
          ]
        },
        {
          "output_type": "stream",
          "name": "stdout",
          "text": [
            "2023-04-10 19:22:59,144 [INFO] Volume = 0.35 ml\n"
          ]
        },
        {
          "output_type": "stream",
          "name": "stderr",
          "text": [
            "INFO:NEURONIOUtils:Volume = 0.35 ml\n"
          ]
        },
        {
          "output_type": "stream",
          "name": "stdout",
          "text": [
            "2023-04-10 19:22:59,148 [INFO] Pressure = 1.43 cm H20\n"
          ]
        },
        {
          "output_type": "stream",
          "name": "stderr",
          "text": [
            "INFO:NEURONIOUtils:Pressure = 1.43 cm H20\n"
          ]
        },
        {
          "output_type": "stream",
          "name": "stdout",
          "text": [
            "2023-04-10 19:22:59,150 [INFO] Bladder afferent firing rate = 5.00 Hz\n"
          ]
        },
        {
          "output_type": "stream",
          "name": "stderr",
          "text": [
            "INFO:NEURONIOUtils:Bladder afferent firing rate = 5.00 Hz\n"
          ]
        },
        {
          "output_type": "stream",
          "name": "stdout",
          "text": [
            "2023-04-10 19:22:59,571 [INFO]     step:200000 t_sim:20000.00 ms\n"
          ]
        },
        {
          "output_type": "stream",
          "name": "stderr",
          "text": [
            "INFO:NEURONIOUtils:    step:200000 t_sim:20000.00 ms\n"
          ]
        },
        {
          "output_type": "stream",
          "name": "stdout",
          "text": [
            "Caclulating firing rates for times 19000.0 to 20000.0 ms\n",
            "node_id\tHz\n",
            "0\t\t5.0\n",
            "firing rate avg: 5.0\n",
            "Grill PGN fr = 7.925000000000001 Hz\n",
            "Calculated Bladder Afferent Firing Rate: 5.0\n",
            "HEllo: \n",
            " [20030.39831866 20608.02718017 20614.76906117 20827.05540822\n",
            " 21000.        ]\n",
            "2023-04-10 19:22:59,591 [INFO] PGN firing rate = 5.00 Hz\n"
          ]
        },
        {
          "output_type": "stream",
          "name": "stderr",
          "text": [
            "INFO:NEURONIOUtils:PGN firing rate = 5.00 Hz\n"
          ]
        },
        {
          "output_type": "stream",
          "name": "stdout",
          "text": [
            "2023-04-10 19:22:59,598 [INFO] Volume = 0.37 ml\n"
          ]
        },
        {
          "output_type": "stream",
          "name": "stderr",
          "text": [
            "INFO:NEURONIOUtils:Volume = 0.37 ml\n"
          ]
        },
        {
          "output_type": "stream",
          "name": "stdout",
          "text": [
            "2023-04-10 19:22:59,602 [INFO] Pressure = 2.58 cm H20\n"
          ]
        },
        {
          "output_type": "stream",
          "name": "stderr",
          "text": [
            "INFO:NEURONIOUtils:Pressure = 2.58 cm H20\n"
          ]
        },
        {
          "output_type": "stream",
          "name": "stdout",
          "text": [
            "2023-04-10 19:22:59,604 [INFO] Bladder afferent firing rate = 5.00 Hz\n"
          ]
        },
        {
          "output_type": "stream",
          "name": "stderr",
          "text": [
            "INFO:NEURONIOUtils:Bladder afferent firing rate = 5.00 Hz\n"
          ]
        },
        {
          "output_type": "stream",
          "name": "stdout",
          "text": [
            "2023-04-10 19:22:59,995 [INFO]     step:210000 t_sim:21000.00 ms\n"
          ]
        },
        {
          "output_type": "stream",
          "name": "stderr",
          "text": [
            "INFO:NEURONIOUtils:    step:210000 t_sim:21000.00 ms\n"
          ]
        },
        {
          "output_type": "stream",
          "name": "stdout",
          "text": [
            "Caclulating firing rates for times 20000.0 to 21000.0 ms\n",
            "node_id\tHz\n",
            "0\t\t4.0\n",
            "firing rate avg: 4.0\n",
            "Grill PGN fr = 6.3 Hz\n",
            "Calculated Bladder Afferent Firing Rate: 5.0\n",
            "HEllo: \n",
            " [21010.57629419 21270.77587384 21287.19964435 21801.02544846\n",
            " 22000.        ]\n",
            "2023-04-10 19:23:00,011 [INFO] PGN firing rate = 4.00 Hz\n"
          ]
        },
        {
          "output_type": "stream",
          "name": "stderr",
          "text": [
            "INFO:NEURONIOUtils:PGN firing rate = 4.00 Hz\n"
          ]
        },
        {
          "output_type": "stream",
          "name": "stdout",
          "text": [
            "2023-04-10 19:23:00,016 [INFO] Volume = 0.38 ml\n"
          ]
        },
        {
          "output_type": "stream",
          "name": "stderr",
          "text": [
            "INFO:NEURONIOUtils:Volume = 0.38 ml\n"
          ]
        },
        {
          "output_type": "stream",
          "name": "stdout",
          "text": [
            "2023-04-10 19:23:00,020 [INFO] Pressure = 2.76 cm H20\n"
          ]
        },
        {
          "output_type": "stream",
          "name": "stderr",
          "text": [
            "INFO:NEURONIOUtils:Pressure = 2.76 cm H20\n"
          ]
        },
        {
          "output_type": "stream",
          "name": "stdout",
          "text": [
            "2023-04-10 19:23:00,023 [INFO] Bladder afferent firing rate = 5.00 Hz\n"
          ]
        },
        {
          "output_type": "stream",
          "name": "stderr",
          "text": [
            "INFO:NEURONIOUtils:Bladder afferent firing rate = 5.00 Hz\n"
          ]
        },
        {
          "output_type": "stream",
          "name": "stdout",
          "text": [
            "2023-04-10 19:23:00,489 [INFO]     step:220000 t_sim:22000.00 ms\n"
          ]
        },
        {
          "output_type": "stream",
          "name": "stderr",
          "text": [
            "INFO:NEURONIOUtils:    step:220000 t_sim:22000.00 ms\n"
          ]
        },
        {
          "output_type": "stream",
          "name": "stdout",
          "text": [
            "Caclulating firing rates for times 21000.0 to 22000.0 ms\n",
            "node_id\tHz\n",
            "0\t\t5.0\n",
            "firing rate avg: 5.0\n",
            "Grill PGN fr = 7.925000000000001 Hz\n",
            "Calculated Bladder Afferent Firing Rate: 5.0\n",
            "HEllo: \n",
            " [22122.20044007 22257.83521443 22314.83125707 22529.52963535\n",
            " 22690.65408332 22895.6861232  23000.        ]\n",
            "2023-04-10 19:23:00,505 [INFO] PGN firing rate = 5.00 Hz\n"
          ]
        },
        {
          "output_type": "stream",
          "name": "stderr",
          "text": [
            "INFO:NEURONIOUtils:PGN firing rate = 5.00 Hz\n"
          ]
        },
        {
          "output_type": "stream",
          "name": "stdout",
          "text": [
            "2023-04-10 19:23:00,511 [INFO] Volume = 0.40 ml\n"
          ]
        },
        {
          "output_type": "stream",
          "name": "stderr",
          "text": [
            "INFO:NEURONIOUtils:Volume = 0.40 ml\n"
          ]
        },
        {
          "output_type": "stream",
          "name": "stdout",
          "text": [
            "2023-04-10 19:23:00,514 [INFO] Pressure = 3.58 cm H20\n"
          ]
        },
        {
          "output_type": "stream",
          "name": "stderr",
          "text": [
            "INFO:NEURONIOUtils:Pressure = 3.58 cm H20\n"
          ]
        },
        {
          "output_type": "stream",
          "name": "stdout",
          "text": [
            "2023-04-10 19:23:00,516 [INFO] Bladder afferent firing rate = 5.00 Hz\n"
          ]
        },
        {
          "output_type": "stream",
          "name": "stderr",
          "text": [
            "INFO:NEURONIOUtils:Bladder afferent firing rate = 5.00 Hz\n"
          ]
        },
        {
          "output_type": "stream",
          "name": "stdout",
          "text": [
            "2023-04-10 19:23:00,857 [INFO]     step:230000 t_sim:23000.00 ms\n"
          ]
        },
        {
          "output_type": "stream",
          "name": "stderr",
          "text": [
            "INFO:NEURONIOUtils:    step:230000 t_sim:23000.00 ms\n"
          ]
        },
        {
          "output_type": "stream",
          "name": "stdout",
          "text": [
            "Caclulating firing rates for times 22000.0 to 23000.0 ms\n",
            "node_id\tHz\n",
            "0\t\t7.0\n",
            "firing rate avg: 7.0\n",
            "Grill PGN fr = 11.169 Hz\n",
            "Calculated Bladder Afferent Firing Rate: 5.0\n",
            "HEllo: \n",
            " [23220.60798735 23254.23560878 23682.18557239 23727.17503016\n",
            " 23753.8042352  24000.        ]\n",
            "2023-04-10 19:23:00,875 [INFO] PGN firing rate = 7.00 Hz\n"
          ]
        },
        {
          "output_type": "stream",
          "name": "stderr",
          "text": [
            "INFO:NEURONIOUtils:PGN firing rate = 7.00 Hz\n"
          ]
        },
        {
          "output_type": "stream",
          "name": "stdout",
          "text": [
            "2023-04-10 19:23:00,883 [INFO] Volume = 0.42 ml\n"
          ]
        },
        {
          "output_type": "stream",
          "name": "stderr",
          "text": [
            "INFO:NEURONIOUtils:Volume = 0.42 ml\n"
          ]
        },
        {
          "output_type": "stream",
          "name": "stdout",
          "text": [
            "2023-04-10 19:23:00,890 [INFO] Pressure = 4.73 cm H20\n"
          ]
        },
        {
          "output_type": "stream",
          "name": "stderr",
          "text": [
            "INFO:NEURONIOUtils:Pressure = 4.73 cm H20\n"
          ]
        },
        {
          "output_type": "stream",
          "name": "stdout",
          "text": [
            "2023-04-10 19:23:00,895 [INFO] Bladder afferent firing rate = 5.00 Hz\n"
          ]
        },
        {
          "output_type": "stream",
          "name": "stderr",
          "text": [
            "INFO:NEURONIOUtils:Bladder afferent firing rate = 5.00 Hz\n"
          ]
        },
        {
          "output_type": "stream",
          "name": "stdout",
          "text": [
            "2023-04-10 19:23:01,262 [INFO]     step:240000 t_sim:24000.00 ms\n"
          ]
        },
        {
          "output_type": "stream",
          "name": "stderr",
          "text": [
            "INFO:NEURONIOUtils:    step:240000 t_sim:24000.00 ms\n"
          ]
        },
        {
          "output_type": "stream",
          "name": "stdout",
          "text": [
            "Caclulating firing rates for times 23000.0 to 24000.0 ms\n",
            "node_id\tHz\n",
            "0\t\t6.0\n",
            "firing rate avg: 6.0\n",
            "Grill PGN fr = 9.544 Hz\n",
            "Calculated Bladder Afferent Firing Rate: 5.0\n",
            "HEllo: \n",
            " [24174.39777578 24355.68185234 24422.19864983 24458.23273498\n",
            " 24808.58013018 24913.36853329 24987.16252081 25000.        ]\n",
            "2023-04-10 19:23:01,281 [INFO] PGN firing rate = 6.00 Hz\n"
          ]
        },
        {
          "output_type": "stream",
          "name": "stderr",
          "text": [
            "INFO:NEURONIOUtils:PGN firing rate = 6.00 Hz\n"
          ]
        },
        {
          "output_type": "stream",
          "name": "stdout",
          "text": [
            "2023-04-10 19:23:01,287 [INFO] Volume = 0.43 ml\n"
          ]
        },
        {
          "output_type": "stream",
          "name": "stderr",
          "text": [
            "INFO:NEURONIOUtils:Volume = 0.43 ml\n"
          ]
        },
        {
          "output_type": "stream",
          "name": "stdout",
          "text": [
            "2023-04-10 19:23:01,293 [INFO] Pressure = 4.91 cm H20\n"
          ]
        },
        {
          "output_type": "stream",
          "name": "stderr",
          "text": [
            "INFO:NEURONIOUtils:Pressure = 4.91 cm H20\n"
          ]
        },
        {
          "output_type": "stream",
          "name": "stdout",
          "text": [
            "2023-04-10 19:23:01,308 [INFO] Bladder afferent firing rate = 5.00 Hz\n"
          ]
        },
        {
          "output_type": "stream",
          "name": "stderr",
          "text": [
            "INFO:NEURONIOUtils:Bladder afferent firing rate = 5.00 Hz\n"
          ]
        },
        {
          "output_type": "stream",
          "name": "stdout",
          "text": [
            "2023-04-10 19:23:01,655 [INFO]     step:250000 t_sim:25000.00 ms\n"
          ]
        },
        {
          "output_type": "stream",
          "name": "stderr",
          "text": [
            "INFO:NEURONIOUtils:    step:250000 t_sim:25000.00 ms\n"
          ]
        },
        {
          "output_type": "stream",
          "name": "stdout",
          "text": [
            "Caclulating firing rates for times 24000.0 to 25000.0 ms\n",
            "node_id\tHz\n",
            "0\t\t8.0\n",
            "firing rate avg: 8.0\n",
            "Grill PGN fr = 12.812000000000001 Hz\n",
            "Calculated Bladder Afferent Firing Rate: 5.0\n",
            "HEllo: \n",
            " [25334.76145318 25455.74415413 25537.6048769  25864.87621337\n",
            " 26000.        ]\n",
            "2023-04-10 19:23:01,681 [INFO] PGN firing rate = 8.00 Hz\n"
          ]
        },
        {
          "output_type": "stream",
          "name": "stderr",
          "text": [
            "INFO:NEURONIOUtils:PGN firing rate = 8.00 Hz\n"
          ]
        },
        {
          "output_type": "stream",
          "name": "stdout",
          "text": [
            "2023-04-10 19:23:01,683 [INFO] Volume = 0.45 ml\n"
          ]
        },
        {
          "output_type": "stream",
          "name": "stderr",
          "text": [
            "INFO:NEURONIOUtils:Volume = 0.45 ml\n"
          ]
        },
        {
          "output_type": "stream",
          "name": "stdout",
          "text": [
            "2023-04-10 19:23:01,686 [INFO] Pressure = 6.06 cm H20\n"
          ]
        },
        {
          "output_type": "stream",
          "name": "stderr",
          "text": [
            "INFO:NEURONIOUtils:Pressure = 6.06 cm H20\n"
          ]
        },
        {
          "output_type": "stream",
          "name": "stdout",
          "text": [
            "2023-04-10 19:23:01,687 [INFO] Bladder afferent firing rate = 5.00 Hz\n"
          ]
        },
        {
          "output_type": "stream",
          "name": "stderr",
          "text": [
            "INFO:NEURONIOUtils:Bladder afferent firing rate = 5.00 Hz\n"
          ]
        },
        {
          "output_type": "stream",
          "name": "stdout",
          "text": [
            "2023-04-10 19:23:02,053 [INFO]     step:260000 t_sim:26000.00 ms\n"
          ]
        },
        {
          "output_type": "stream",
          "name": "stderr",
          "text": [
            "INFO:NEURONIOUtils:    step:260000 t_sim:26000.00 ms\n"
          ]
        },
        {
          "output_type": "stream",
          "name": "stdout",
          "text": [
            "Caclulating firing rates for times 25000.0 to 26000.0 ms\n",
            "node_id\tHz\n",
            "0\t\t5.0\n",
            "firing rate avg: 5.0\n",
            "Grill PGN fr = 7.925000000000001 Hz\n",
            "Calculated Bladder Afferent Firing Rate: 5.0\n",
            "HEllo: \n",
            " [26228.42422545 26285.19017673 26358.02525311 26446.81466909\n",
            " 26730.53069138 26879.45451128 27000.        ]\n",
            "2023-04-10 19:23:02,072 [INFO] PGN firing rate = 5.00 Hz\n"
          ]
        },
        {
          "output_type": "stream",
          "name": "stderr",
          "text": [
            "INFO:NEURONIOUtils:PGN firing rate = 5.00 Hz\n"
          ]
        },
        {
          "output_type": "stream",
          "name": "stdout",
          "text": [
            "2023-04-10 19:23:02,078 [INFO] Volume = 0.47 ml\n"
          ]
        },
        {
          "output_type": "stream",
          "name": "stderr",
          "text": [
            "INFO:NEURONIOUtils:Volume = 0.47 ml\n"
          ]
        },
        {
          "output_type": "stream",
          "name": "stdout",
          "text": [
            "2023-04-10 19:23:02,082 [INFO] Pressure = 5.58 cm H20\n"
          ]
        },
        {
          "output_type": "stream",
          "name": "stderr",
          "text": [
            "INFO:NEURONIOUtils:Pressure = 5.58 cm H20\n"
          ]
        },
        {
          "output_type": "stream",
          "name": "stdout",
          "text": [
            "2023-04-10 19:23:02,084 [INFO] Bladder afferent firing rate = 5.00 Hz\n"
          ]
        },
        {
          "output_type": "stream",
          "name": "stderr",
          "text": [
            "INFO:NEURONIOUtils:Bladder afferent firing rate = 5.00 Hz\n"
          ]
        },
        {
          "output_type": "stream",
          "name": "stdout",
          "text": [
            "2023-04-10 19:23:02,461 [INFO]     step:270000 t_sim:27000.00 ms\n"
          ]
        },
        {
          "output_type": "stream",
          "name": "stderr",
          "text": [
            "INFO:NEURONIOUtils:    step:270000 t_sim:27000.00 ms\n"
          ]
        },
        {
          "output_type": "stream",
          "name": "stdout",
          "text": [
            "Caclulating firing rates for times 26000.0 to 27000.0 ms\n",
            "node_id\tHz\n",
            "0\t\t7.0\n",
            "firing rate avg: 7.0\n",
            "Grill PGN fr = 11.169 Hz\n",
            "Calculated Bladder Afferent Firing Rate: 5.0\n",
            "HEllo: \n",
            " [27261.98762431 27712.37539534 28000.        ]\n",
            "2023-04-10 19:23:02,482 [INFO] PGN firing rate = 7.00 Hz\n"
          ]
        },
        {
          "output_type": "stream",
          "name": "stderr",
          "text": [
            "INFO:NEURONIOUtils:PGN firing rate = 7.00 Hz\n"
          ]
        },
        {
          "output_type": "stream",
          "name": "stdout",
          "text": [
            "2023-04-10 19:23:02,485 [INFO] Volume = 0.48 ml\n"
          ]
        },
        {
          "output_type": "stream",
          "name": "stderr",
          "text": [
            "INFO:NEURONIOUtils:Volume = 0.48 ml\n"
          ]
        },
        {
          "output_type": "stream",
          "name": "stdout",
          "text": [
            "2023-04-10 19:23:02,488 [INFO] Pressure = 6.73 cm H20\n"
          ]
        },
        {
          "output_type": "stream",
          "name": "stderr",
          "text": [
            "INFO:NEURONIOUtils:Pressure = 6.73 cm H20\n"
          ]
        },
        {
          "output_type": "stream",
          "name": "stdout",
          "text": [
            "2023-04-10 19:23:02,490 [INFO] Bladder afferent firing rate = 5.00 Hz\n"
          ]
        },
        {
          "output_type": "stream",
          "name": "stderr",
          "text": [
            "INFO:NEURONIOUtils:Bladder afferent firing rate = 5.00 Hz\n"
          ]
        },
        {
          "output_type": "stream",
          "name": "stdout",
          "text": [
            "2023-04-10 19:23:02,917 [INFO]     step:280000 t_sim:28000.00 ms\n"
          ]
        },
        {
          "output_type": "stream",
          "name": "stderr",
          "text": [
            "INFO:NEURONIOUtils:    step:280000 t_sim:28000.00 ms\n"
          ]
        },
        {
          "output_type": "stream",
          "name": "stdout",
          "text": [
            "Caclulating firing rates for times 27000.0 to 28000.0 ms\n",
            "node_id\tHz\n",
            "0\t\t3.0\n",
            "firing rate avg: 3.0\n",
            "Grill PGN fr = 4.657 Hz\n",
            "Calculated Bladder Afferent Firing Rate: 5.0\n",
            "HEllo: \n",
            " [28103.05177697 28155.56073943 28312.31929486 28582.28306062\n",
            " 28809.21197817 28927.68357925 29000.        ]\n",
            "2023-04-10 19:23:02,937 [INFO] PGN firing rate = 3.00 Hz\n"
          ]
        },
        {
          "output_type": "stream",
          "name": "stderr",
          "text": [
            "INFO:NEURONIOUtils:PGN firing rate = 3.00 Hz\n"
          ]
        },
        {
          "output_type": "stream",
          "name": "stdout",
          "text": [
            "2023-04-10 19:23:02,940 [INFO] Volume = 0.50 ml\n"
          ]
        },
        {
          "output_type": "stream",
          "name": "stderr",
          "text": [
            "INFO:NEURONIOUtils:Volume = 0.50 ml\n"
          ]
        },
        {
          "output_type": "stream",
          "name": "stdout",
          "text": [
            "2023-04-10 19:23:02,944 [INFO] Pressure = 5.93 cm H20\n"
          ]
        },
        {
          "output_type": "stream",
          "name": "stderr",
          "text": [
            "INFO:NEURONIOUtils:Pressure = 5.93 cm H20\n"
          ]
        },
        {
          "output_type": "stream",
          "name": "stdout",
          "text": [
            "2023-04-10 19:23:02,947 [INFO] Bladder afferent firing rate = 5.00 Hz\n"
          ]
        },
        {
          "output_type": "stream",
          "name": "stderr",
          "text": [
            "INFO:NEURONIOUtils:Bladder afferent firing rate = 5.00 Hz\n"
          ]
        },
        {
          "output_type": "stream",
          "name": "stdout",
          "text": [
            "2023-04-10 19:23:03,323 [INFO]     step:290000 t_sim:29000.00 ms\n"
          ]
        },
        {
          "output_type": "stream",
          "name": "stderr",
          "text": [
            "INFO:NEURONIOUtils:    step:290000 t_sim:29000.00 ms\n"
          ]
        },
        {
          "output_type": "stream",
          "name": "stdout",
          "text": [
            "Caclulating firing rates for times 28000.0 to 29000.0 ms\n",
            "node_id\tHz\n",
            "0\t\t7.0\n",
            "firing rate avg: 7.0\n",
            "Grill PGN fr = 11.169 Hz\n",
            "Calculated Bladder Afferent Firing Rate: 5.0\n",
            "HEllo: \n",
            " [29671.34357702 29697.06540748 29835.86889454 30000.        ]\n",
            "2023-04-10 19:23:03,336 [INFO] PGN firing rate = 7.00 Hz\n"
          ]
        },
        {
          "output_type": "stream",
          "name": "stderr",
          "text": [
            "INFO:NEURONIOUtils:PGN firing rate = 7.00 Hz\n"
          ]
        },
        {
          "output_type": "stream",
          "name": "stdout",
          "text": [
            "2023-04-10 19:23:03,341 [INFO] Volume = 0.52 ml\n"
          ]
        },
        {
          "output_type": "stream",
          "name": "stderr",
          "text": [
            "INFO:NEURONIOUtils:Volume = 0.52 ml\n"
          ]
        },
        {
          "output_type": "stream",
          "name": "stdout",
          "text": [
            "2023-04-10 19:23:03,348 [INFO] Pressure = 7.73 cm H20\n"
          ]
        },
        {
          "output_type": "stream",
          "name": "stderr",
          "text": [
            "INFO:NEURONIOUtils:Pressure = 7.73 cm H20\n"
          ]
        },
        {
          "output_type": "stream",
          "name": "stdout",
          "text": [
            "2023-04-10 19:23:03,350 [INFO] Bladder afferent firing rate = 5.00 Hz\n"
          ]
        },
        {
          "output_type": "stream",
          "name": "stderr",
          "text": [
            "INFO:NEURONIOUtils:Bladder afferent firing rate = 5.00 Hz\n"
          ]
        },
        {
          "output_type": "stream",
          "name": "stdout",
          "text": [
            "2023-04-10 19:23:03,778 [INFO]     step:300000 t_sim:30000.00 ms\n"
          ]
        },
        {
          "output_type": "stream",
          "name": "stderr",
          "text": [
            "INFO:NEURONIOUtils:    step:300000 t_sim:30000.00 ms\n"
          ]
        },
        {
          "output_type": "stream",
          "name": "stdout",
          "text": [
            "Caclulating firing rates for times 29000.0 to 30000.0 ms\n",
            "node_id\tHz\n",
            "0\t\t4.0\n",
            "firing rate avg: 4.0\n",
            "Grill PGN fr = 6.3 Hz\n",
            "Calculated Bladder Afferent Firing Rate: 5.0\n",
            "HEllo: \n",
            " [30222.5702906  30936.24345686 30940.82961437 31000.        ]\n",
            "2023-04-10 19:23:03,803 [INFO] PGN firing rate = 4.00 Hz\n"
          ]
        },
        {
          "output_type": "stream",
          "name": "stderr",
          "text": [
            "INFO:NEURONIOUtils:PGN firing rate = 4.00 Hz\n"
          ]
        },
        {
          "output_type": "stream",
          "name": "stdout",
          "text": [
            "2023-04-10 19:23:03,810 [INFO] Volume = 0.53 ml\n"
          ]
        },
        {
          "output_type": "stream",
          "name": "stderr",
          "text": [
            "INFO:NEURONIOUtils:Volume = 0.53 ml\n"
          ]
        },
        {
          "output_type": "stream",
          "name": "stdout",
          "text": [
            "2023-04-10 19:23:03,814 [INFO] Pressure = 7.26 cm H20\n"
          ]
        },
        {
          "output_type": "stream",
          "name": "stderr",
          "text": [
            "INFO:NEURONIOUtils:Pressure = 7.26 cm H20\n"
          ]
        },
        {
          "output_type": "stream",
          "name": "stdout",
          "text": [
            "2023-04-10 19:23:03,817 [INFO] Bladder afferent firing rate = 5.00 Hz\n"
          ]
        },
        {
          "output_type": "stream",
          "name": "stderr",
          "text": [
            "INFO:NEURONIOUtils:Bladder afferent firing rate = 5.00 Hz\n"
          ]
        },
        {
          "output_type": "stream",
          "name": "stdout",
          "text": [
            "2023-04-10 19:23:04,327 [INFO]     step:310000 t_sim:31000.00 ms\n"
          ]
        },
        {
          "output_type": "stream",
          "name": "stderr",
          "text": [
            "INFO:NEURONIOUtils:    step:310000 t_sim:31000.00 ms\n"
          ]
        },
        {
          "output_type": "stream",
          "name": "stdout",
          "text": [
            "Caclulating firing rates for times 30000.0 to 31000.0 ms\n",
            "node_id\tHz\n",
            "0\t\t3.0\n",
            "firing rate avg: 3.0\n",
            "Grill PGN fr = 4.657 Hz\n",
            "Calculated Bladder Afferent Firing Rate: 5.0\n",
            "HEllo: \n",
            " [31276.23001784 31347.58210347 31533.24133465 31702.79951618\n",
            " 31976.63814037 31989.97703727 32000.        ]\n",
            "2023-04-10 19:23:04,346 [INFO] PGN firing rate = 3.00 Hz\n"
          ]
        },
        {
          "output_type": "stream",
          "name": "stderr",
          "text": [
            "INFO:NEURONIOUtils:PGN firing rate = 3.00 Hz\n"
          ]
        },
        {
          "output_type": "stream",
          "name": "stdout",
          "text": [
            "2023-04-10 19:23:04,350 [INFO] Volume = 0.55 ml\n"
          ]
        },
        {
          "output_type": "stream",
          "name": "stderr",
          "text": [
            "INFO:NEURONIOUtils:Volume = 0.55 ml\n"
          ]
        },
        {
          "output_type": "stream",
          "name": "stdout",
          "text": [
            "2023-04-10 19:23:04,355 [INFO] Pressure = 7.43 cm H20\n"
          ]
        },
        {
          "output_type": "stream",
          "name": "stderr",
          "text": [
            "INFO:NEURONIOUtils:Pressure = 7.43 cm H20\n"
          ]
        },
        {
          "output_type": "stream",
          "name": "stdout",
          "text": [
            "2023-04-10 19:23:04,359 [INFO] Bladder afferent firing rate = 5.00 Hz\n"
          ]
        },
        {
          "output_type": "stream",
          "name": "stderr",
          "text": [
            "INFO:NEURONIOUtils:Bladder afferent firing rate = 5.00 Hz\n"
          ]
        },
        {
          "output_type": "stream",
          "name": "stdout",
          "text": [
            "2023-04-10 19:23:04,893 [INFO]     step:320000 t_sim:32000.00 ms\n"
          ]
        },
        {
          "output_type": "stream",
          "name": "stderr",
          "text": [
            "INFO:NEURONIOUtils:    step:320000 t_sim:32000.00 ms\n"
          ]
        },
        {
          "output_type": "stream",
          "name": "stdout",
          "text": [
            "Caclulating firing rates for times 31000.0 to 32000.0 ms\n",
            "node_id\tHz\n",
            "0\t\t7.0\n",
            "firing rate avg: 7.0\n",
            "Grill PGN fr = 11.169 Hz\n",
            "Calculated Bladder Afferent Firing Rate: 5.0\n",
            "HEllo: \n",
            " [32123.27453688 32308.80554303 32862.52424749 33000.        ]\n",
            "2023-04-10 19:23:04,908 [INFO] PGN firing rate = 7.00 Hz\n"
          ]
        },
        {
          "output_type": "stream",
          "name": "stderr",
          "text": [
            "INFO:NEURONIOUtils:PGN firing rate = 7.00 Hz\n"
          ]
        },
        {
          "output_type": "stream",
          "name": "stdout",
          "text": [
            "2023-04-10 19:23:04,912 [INFO] Volume = 0.57 ml\n"
          ]
        },
        {
          "output_type": "stream",
          "name": "stderr",
          "text": [
            "INFO:NEURONIOUtils:Volume = 0.57 ml\n"
          ]
        },
        {
          "output_type": "stream",
          "name": "stdout",
          "text": [
            "2023-04-10 19:23:04,915 [INFO] Pressure = 9.23 cm H20\n"
          ]
        },
        {
          "output_type": "stream",
          "name": "stderr",
          "text": [
            "INFO:NEURONIOUtils:Pressure = 9.23 cm H20\n"
          ]
        },
        {
          "output_type": "stream",
          "name": "stdout",
          "text": [
            "2023-04-10 19:23:04,919 [INFO] Bladder afferent firing rate = 5.00 Hz\n"
          ]
        },
        {
          "output_type": "stream",
          "name": "stderr",
          "text": [
            "INFO:NEURONIOUtils:Bladder afferent firing rate = 5.00 Hz\n"
          ]
        },
        {
          "output_type": "stream",
          "name": "stdout",
          "text": [
            "2023-04-10 19:23:05,444 [INFO]     step:330000 t_sim:33000.00 ms\n"
          ]
        },
        {
          "output_type": "stream",
          "name": "stderr",
          "text": [
            "INFO:NEURONIOUtils:    step:330000 t_sim:33000.00 ms\n"
          ]
        },
        {
          "output_type": "stream",
          "name": "stdout",
          "text": [
            "Caclulating firing rates for times 32000.0 to 33000.0 ms\n",
            "node_id\tHz\n",
            "0\t\t4.0\n",
            "firing rate avg: 4.0\n",
            "Grill PGN fr = 6.3 Hz\n",
            "Calculated Bladder Afferent Firing Rate: 5.0\n",
            "HEllo: \n",
            " [33159.37149026 33200.95207982 33462.21860947 33565.81526486\n",
            " 34000.        ]\n",
            "2023-04-10 19:23:05,458 [INFO] PGN firing rate = 4.00 Hz\n"
          ]
        },
        {
          "output_type": "stream",
          "name": "stderr",
          "text": [
            "INFO:NEURONIOUtils:PGN firing rate = 4.00 Hz\n"
          ]
        },
        {
          "output_type": "stream",
          "name": "stdout",
          "text": [
            "2023-04-10 19:23:05,462 [INFO] Volume = 0.58 ml\n"
          ]
        },
        {
          "output_type": "stream",
          "name": "stderr",
          "text": [
            "INFO:NEURONIOUtils:Volume = 0.58 ml\n"
          ]
        },
        {
          "output_type": "stream",
          "name": "stdout",
          "text": [
            "2023-04-10 19:23:05,466 [INFO] Pressure = 8.76 cm H20\n"
          ]
        },
        {
          "output_type": "stream",
          "name": "stderr",
          "text": [
            "INFO:NEURONIOUtils:Pressure = 8.76 cm H20\n"
          ]
        },
        {
          "output_type": "stream",
          "name": "stdout",
          "text": [
            "2023-04-10 19:23:05,469 [INFO] Bladder afferent firing rate = 5.00 Hz\n"
          ]
        },
        {
          "output_type": "stream",
          "name": "stderr",
          "text": [
            "INFO:NEURONIOUtils:Bladder afferent firing rate = 5.00 Hz\n"
          ]
        },
        {
          "output_type": "stream",
          "name": "stdout",
          "text": [
            "2023-04-10 19:23:05,971 [INFO]     step:340000 t_sim:34000.00 ms\n"
          ]
        },
        {
          "output_type": "stream",
          "name": "stderr",
          "text": [
            "INFO:NEURONIOUtils:    step:340000 t_sim:34000.00 ms\n"
          ]
        },
        {
          "output_type": "stream",
          "name": "stdout",
          "text": [
            "Caclulating firing rates for times 33000.0 to 34000.0 ms\n",
            "node_id\tHz\n",
            "0\t\t5.0\n",
            "firing rate avg: 5.0\n",
            "Grill PGN fr = 7.925000000000001 Hz\n",
            "Calculated Bladder Afferent Firing Rate: 5.0\n",
            "HEllo: \n",
            " [34216.92762485 34304.8359307  34461.48338596 34473.84069884\n",
            " 34794.43318056 34857.98894471 35000.        ]\n",
            "2023-04-10 19:23:05,997 [INFO] PGN firing rate = 5.00 Hz\n"
          ]
        },
        {
          "output_type": "stream",
          "name": "stderr",
          "text": [
            "INFO:NEURONIOUtils:PGN firing rate = 5.00 Hz\n"
          ]
        },
        {
          "output_type": "stream",
          "name": "stdout",
          "text": [
            "2023-04-10 19:23:06,003 [INFO] Volume = 0.60 ml\n"
          ]
        },
        {
          "output_type": "stream",
          "name": "stderr",
          "text": [
            "INFO:NEURONIOUtils:Volume = 0.60 ml\n"
          ]
        },
        {
          "output_type": "stream",
          "name": "stdout",
          "text": [
            "2023-04-10 19:23:06,011 [INFO] Pressure = 9.58 cm H20\n"
          ]
        },
        {
          "output_type": "stream",
          "name": "stderr",
          "text": [
            "INFO:NEURONIOUtils:Pressure = 9.58 cm H20\n"
          ]
        },
        {
          "output_type": "stream",
          "name": "stdout",
          "text": [
            "2023-04-10 19:23:06,015 [INFO] Bladder afferent firing rate = 5.00 Hz\n"
          ]
        },
        {
          "output_type": "stream",
          "name": "stderr",
          "text": [
            "INFO:NEURONIOUtils:Bladder afferent firing rate = 5.00 Hz\n"
          ]
        },
        {
          "output_type": "stream",
          "name": "stdout",
          "text": [
            "2023-04-10 19:23:06,567 [INFO]     step:350000 t_sim:35000.00 ms\n"
          ]
        },
        {
          "output_type": "stream",
          "name": "stderr",
          "text": [
            "INFO:NEURONIOUtils:    step:350000 t_sim:35000.00 ms\n"
          ]
        },
        {
          "output_type": "stream",
          "name": "stdout",
          "text": [
            "Caclulating firing rates for times 34000.0 to 35000.0 ms\n",
            "node_id\tHz\n",
            "0\t\t7.0\n",
            "firing rate avg: 7.0\n",
            "Grill PGN fr = 11.169 Hz\n",
            "Calculated Bladder Afferent Firing Rate: 5.0\n",
            "HEllo: \n",
            " [35285.35687885 35417.50815376 35432.02049918 35606.38406251\n",
            " 36000.        ]\n",
            "2023-04-10 19:23:06,591 [INFO] PGN firing rate = 7.00 Hz\n"
          ]
        },
        {
          "output_type": "stream",
          "name": "stderr",
          "text": [
            "INFO:NEURONIOUtils:PGN firing rate = 7.00 Hz\n"
          ]
        },
        {
          "output_type": "stream",
          "name": "stdout",
          "text": [
            "2023-04-10 19:23:06,599 [INFO] Volume = 0.62 ml\n"
          ]
        },
        {
          "output_type": "stream",
          "name": "stderr",
          "text": [
            "INFO:NEURONIOUtils:Volume = 0.62 ml\n"
          ]
        },
        {
          "output_type": "stream",
          "name": "stdout",
          "text": [
            "2023-04-10 19:23:06,603 [INFO] Pressure = 10.73 cm H20\n"
          ]
        },
        {
          "output_type": "stream",
          "name": "stderr",
          "text": [
            "INFO:NEURONIOUtils:Pressure = 10.73 cm H20\n"
          ]
        },
        {
          "output_type": "stream",
          "name": "stdout",
          "text": [
            "2023-04-10 19:23:06,607 [INFO] Bladder afferent firing rate = 5.00 Hz\n"
          ]
        },
        {
          "output_type": "stream",
          "name": "stderr",
          "text": [
            "INFO:NEURONIOUtils:Bladder afferent firing rate = 5.00 Hz\n"
          ]
        },
        {
          "output_type": "stream",
          "name": "stdout",
          "text": [
            "2023-04-10 19:23:07,133 [INFO]     step:360000 t_sim:36000.00 ms\n"
          ]
        },
        {
          "output_type": "stream",
          "name": "stderr",
          "text": [
            "INFO:NEURONIOUtils:    step:360000 t_sim:36000.00 ms\n"
          ]
        },
        {
          "output_type": "stream",
          "name": "stdout",
          "text": [
            "Caclulating firing rates for times 35000.0 to 36000.0 ms\n",
            "node_id\tHz\n",
            "0\t\t5.0\n",
            "firing rate avg: 5.0\n",
            "Grill PGN fr = 7.925000000000001 Hz\n",
            "Calculated Bladder Afferent Firing Rate: 5.0\n",
            "HEllo: \n",
            " [36115.62258948 36367.77132565 36397.62781227 36822.72183455\n",
            " 36966.96477208 37000.        ]\n",
            "2023-04-10 19:23:07,150 [INFO] PGN firing rate = 5.00 Hz\n"
          ]
        },
        {
          "output_type": "stream",
          "name": "stderr",
          "text": [
            "INFO:NEURONIOUtils:PGN firing rate = 5.00 Hz\n"
          ]
        },
        {
          "output_type": "stream",
          "name": "stdout",
          "text": [
            "2023-04-10 19:23:07,157 [INFO] Volume = 0.63 ml\n"
          ]
        },
        {
          "output_type": "stream",
          "name": "stderr",
          "text": [
            "INFO:NEURONIOUtils:Volume = 0.63 ml\n"
          ]
        },
        {
          "output_type": "stream",
          "name": "stdout",
          "text": [
            "2023-04-10 19:23:07,160 [INFO] Pressure = 10.58 cm H20\n"
          ]
        },
        {
          "output_type": "stream",
          "name": "stderr",
          "text": [
            "INFO:NEURONIOUtils:Pressure = 10.58 cm H20\n"
          ]
        },
        {
          "output_type": "stream",
          "name": "stdout",
          "text": [
            "2023-04-10 19:23:07,172 [INFO] Bladder afferent firing rate = 5.00 Hz\n"
          ]
        },
        {
          "output_type": "stream",
          "name": "stderr",
          "text": [
            "INFO:NEURONIOUtils:Bladder afferent firing rate = 5.00 Hz\n"
          ]
        },
        {
          "output_type": "stream",
          "name": "stdout",
          "text": [
            "2023-04-10 19:23:07,605 [INFO]     step:370000 t_sim:37000.00 ms\n"
          ]
        },
        {
          "output_type": "stream",
          "name": "stderr",
          "text": [
            "INFO:NEURONIOUtils:    step:370000 t_sim:37000.00 ms\n"
          ]
        },
        {
          "output_type": "stream",
          "name": "stdout",
          "text": [
            "Caclulating firing rates for times 36000.0 to 37000.0 ms\n",
            "node_id\tHz\n",
            "0\t\t6.0\n",
            "firing rate avg: 6.0\n",
            "Grill PGN fr = 9.544 Hz\n",
            "Calculated Bladder Afferent Firing Rate: 5.0\n",
            "HEllo: \n",
            " [37277.21920743 37639.97605789 37645.71868239 38000.        ]\n",
            "2023-04-10 19:23:07,624 [INFO] PGN firing rate = 6.00 Hz\n"
          ]
        },
        {
          "output_type": "stream",
          "name": "stderr",
          "text": [
            "INFO:NEURONIOUtils:PGN firing rate = 6.00 Hz\n"
          ]
        },
        {
          "output_type": "stream",
          "name": "stdout",
          "text": [
            "2023-04-10 19:23:07,628 [INFO] Volume = 0.65 ml\n"
          ]
        },
        {
          "output_type": "stream",
          "name": "stderr",
          "text": [
            "INFO:NEURONIOUtils:Volume = 0.65 ml\n"
          ]
        },
        {
          "output_type": "stream",
          "name": "stdout",
          "text": [
            "2023-04-10 19:23:07,631 [INFO] Pressure = 11.41 cm H20\n"
          ]
        },
        {
          "output_type": "stream",
          "name": "stderr",
          "text": [
            "INFO:NEURONIOUtils:Pressure = 11.41 cm H20\n"
          ]
        },
        {
          "output_type": "stream",
          "name": "stdout",
          "text": [
            "2023-04-10 19:23:07,633 [INFO] Bladder afferent firing rate = 5.00 Hz\n"
          ]
        },
        {
          "output_type": "stream",
          "name": "stderr",
          "text": [
            "INFO:NEURONIOUtils:Bladder afferent firing rate = 5.00 Hz\n"
          ]
        },
        {
          "output_type": "stream",
          "name": "stdout",
          "text": [
            "2023-04-10 19:23:07,995 [INFO]     step:380000 t_sim:38000.00 ms\n"
          ]
        },
        {
          "output_type": "stream",
          "name": "stderr",
          "text": [
            "INFO:NEURONIOUtils:    step:380000 t_sim:38000.00 ms\n"
          ]
        },
        {
          "output_type": "stream",
          "name": "stdout",
          "text": [
            "Caclulating firing rates for times 37000.0 to 38000.0 ms\n",
            "node_id\tHz\n",
            "0\t\t3.0\n",
            "firing rate avg: 3.0\n",
            "Grill PGN fr = 4.657 Hz\n",
            "Calculated Bladder Afferent Firing Rate: 5.0\n",
            "HEllo: \n",
            " [38286.21190734 38685.6113499  38850.61311771 39000.        ]\n",
            "2023-04-10 19:23:08,011 [INFO] PGN firing rate = 3.00 Hz\n"
          ]
        },
        {
          "output_type": "stream",
          "name": "stderr",
          "text": [
            "INFO:NEURONIOUtils:PGN firing rate = 3.00 Hz\n"
          ]
        },
        {
          "output_type": "stream",
          "name": "stdout",
          "text": [
            "2023-04-10 19:23:08,021 [INFO] Volume = 0.67 ml\n"
          ]
        },
        {
          "output_type": "stream",
          "name": "stderr",
          "text": [
            "INFO:NEURONIOUtils:Volume = 0.67 ml\n"
          ]
        },
        {
          "output_type": "stream",
          "name": "stdout",
          "text": [
            "2023-04-10 19:23:08,026 [INFO] Pressure = 10.93 cm H20\n"
          ]
        },
        {
          "output_type": "stream",
          "name": "stderr",
          "text": [
            "INFO:NEURONIOUtils:Pressure = 10.93 cm H20\n"
          ]
        },
        {
          "output_type": "stream",
          "name": "stdout",
          "text": [
            "2023-04-10 19:23:08,033 [INFO] Bladder afferent firing rate = 5.00 Hz\n"
          ]
        },
        {
          "output_type": "stream",
          "name": "stderr",
          "text": [
            "INFO:NEURONIOUtils:Bladder afferent firing rate = 5.00 Hz\n"
          ]
        },
        {
          "output_type": "stream",
          "name": "stdout",
          "text": [
            "2023-04-10 19:23:08,376 [INFO]     step:390000 t_sim:39000.00 ms\n"
          ]
        },
        {
          "output_type": "stream",
          "name": "stderr",
          "text": [
            "INFO:NEURONIOUtils:    step:390000 t_sim:39000.00 ms\n"
          ]
        },
        {
          "output_type": "stream",
          "name": "stdout",
          "text": [
            "Caclulating firing rates for times 38000.0 to 39000.0 ms\n",
            "node_id\tHz\n",
            "0\t\t4.0\n",
            "firing rate avg: 4.0\n",
            "Grill PGN fr = 6.3 Hz\n",
            "Calculated Bladder Afferent Firing Rate: 5.0\n",
            "HEllo: \n",
            " [39346.56391931 39515.76208788 39714.8165139  39920.19728416\n",
            " 40000.        ]\n",
            "2023-04-10 19:23:08,389 [INFO] PGN firing rate = 4.00 Hz\n"
          ]
        },
        {
          "output_type": "stream",
          "name": "stderr",
          "text": [
            "INFO:NEURONIOUtils:PGN firing rate = 4.00 Hz\n"
          ]
        },
        {
          "output_type": "stream",
          "name": "stdout",
          "text": [
            "2023-04-10 19:23:08,394 [INFO] Volume = 0.68 ml\n"
          ]
        },
        {
          "output_type": "stream",
          "name": "stderr",
          "text": [
            "INFO:NEURONIOUtils:Volume = 0.68 ml\n"
          ]
        },
        {
          "output_type": "stream",
          "name": "stdout",
          "text": [
            "2023-04-10 19:23:08,399 [INFO] Pressure = 11.76 cm H20\n"
          ]
        },
        {
          "output_type": "stream",
          "name": "stderr",
          "text": [
            "INFO:NEURONIOUtils:Pressure = 11.76 cm H20\n"
          ]
        },
        {
          "output_type": "stream",
          "name": "stdout",
          "text": [
            "2023-04-10 19:23:08,402 [INFO] Bladder afferent firing rate = 5.00 Hz\n"
          ]
        },
        {
          "output_type": "stream",
          "name": "stderr",
          "text": [
            "INFO:NEURONIOUtils:Bladder afferent firing rate = 5.00 Hz\n"
          ]
        },
        {
          "output_type": "stream",
          "name": "stdout",
          "text": [
            "2023-04-10 19:23:08,744 [INFO]     step:400000 t_sim:40000.00 ms\n"
          ]
        },
        {
          "output_type": "stream",
          "name": "stderr",
          "text": [
            "INFO:NEURONIOUtils:    step:400000 t_sim:40000.00 ms\n"
          ]
        },
        {
          "output_type": "stream",
          "name": "stdout",
          "text": [
            "Caclulating firing rates for times 39000.0 to 40000.0 ms\n",
            "node_id\tHz\n",
            "0\t\t5.0\n",
            "firing rate avg: 5.0\n",
            "Grill PGN fr = 7.925000000000001 Hz\n",
            "Calculated Bladder Afferent Firing Rate: 5.0\n",
            "HEllo: \n",
            " [40019.39530815 40232.26100557 40511.97807397 40836.07365752\n",
            " 41000.        ]\n",
            "2023-04-10 19:23:08,761 [INFO] PGN firing rate = 5.00 Hz\n"
          ]
        },
        {
          "output_type": "stream",
          "name": "stderr",
          "text": [
            "INFO:NEURONIOUtils:PGN firing rate = 5.00 Hz\n"
          ]
        },
        {
          "output_type": "stream",
          "name": "stdout",
          "text": [
            "2023-04-10 19:23:08,766 [INFO] Volume = 0.70 ml\n"
          ]
        },
        {
          "output_type": "stream",
          "name": "stderr",
          "text": [
            "INFO:NEURONIOUtils:Volume = 0.70 ml\n"
          ]
        },
        {
          "output_type": "stream",
          "name": "stdout",
          "text": [
            "2023-04-10 19:23:08,770 [INFO] Pressure = 12.59 cm H20\n"
          ]
        },
        {
          "output_type": "stream",
          "name": "stderr",
          "text": [
            "INFO:NEURONIOUtils:Pressure = 12.59 cm H20\n"
          ]
        },
        {
          "output_type": "stream",
          "name": "stdout",
          "text": [
            "2023-04-10 19:23:08,774 [INFO] Bladder afferent firing rate = 5.00 Hz\n"
          ]
        },
        {
          "output_type": "stream",
          "name": "stderr",
          "text": [
            "INFO:NEURONIOUtils:Bladder afferent firing rate = 5.00 Hz\n"
          ]
        },
        {
          "output_type": "stream",
          "name": "stdout",
          "text": [
            "2023-04-10 19:23:09,124 [INFO]     step:410000 t_sim:41000.00 ms\n"
          ]
        },
        {
          "output_type": "stream",
          "name": "stderr",
          "text": [
            "INFO:NEURONIOUtils:    step:410000 t_sim:41000.00 ms\n"
          ]
        },
        {
          "output_type": "stream",
          "name": "stdout",
          "text": [
            "Caclulating firing rates for times 40000.0 to 41000.0 ms\n",
            "node_id\tHz\n",
            "0\t\t5.0\n",
            "firing rate avg: 5.0\n",
            "Grill PGN fr = 7.925000000000001 Hz\n",
            "Calculated Bladder Afferent Firing Rate: 5.0\n",
            "HEllo: \n",
            " [41189.42826026 41391.60687554 41478.55756672 41736.53773713\n",
            " 41759.2929094  41795.67107981 41936.01099496 42000.        ]\n",
            "2023-04-10 19:23:09,147 [INFO] PGN firing rate = 5.00 Hz\n"
          ]
        },
        {
          "output_type": "stream",
          "name": "stderr",
          "text": [
            "INFO:NEURONIOUtils:PGN firing rate = 5.00 Hz\n"
          ]
        },
        {
          "output_type": "stream",
          "name": "stdout",
          "text": [
            "2023-04-10 19:23:09,151 [INFO] Volume = 0.72 ml\n"
          ]
        },
        {
          "output_type": "stream",
          "name": "stderr",
          "text": [
            "INFO:NEURONIOUtils:Volume = 0.72 ml\n"
          ]
        },
        {
          "output_type": "stream",
          "name": "stdout",
          "text": [
            "2023-04-10 19:23:09,155 [INFO] Pressure = 13.09 cm H20\n"
          ]
        },
        {
          "output_type": "stream",
          "name": "stderr",
          "text": [
            "INFO:NEURONIOUtils:Pressure = 13.09 cm H20\n"
          ]
        },
        {
          "output_type": "stream",
          "name": "stdout",
          "text": [
            "2023-04-10 19:23:09,156 [INFO] Bladder afferent firing rate = 5.00 Hz\n"
          ]
        },
        {
          "output_type": "stream",
          "name": "stderr",
          "text": [
            "INFO:NEURONIOUtils:Bladder afferent firing rate = 5.00 Hz\n"
          ]
        },
        {
          "output_type": "stream",
          "name": "stdout",
          "text": [
            "2023-04-10 19:23:09,514 [INFO]     step:420000 t_sim:42000.00 ms\n"
          ]
        },
        {
          "output_type": "stream",
          "name": "stderr",
          "text": [
            "INFO:NEURONIOUtils:    step:420000 t_sim:42000.00 ms\n"
          ]
        },
        {
          "output_type": "stream",
          "name": "stdout",
          "text": [
            "Caclulating firing rates for times 41000.0 to 42000.0 ms\n",
            "node_id\tHz\n",
            "0\t\t8.0\n",
            "firing rate avg: 8.0\n",
            "Grill PGN fr = 12.812000000000001 Hz\n",
            "Calculated Bladder Afferent Firing Rate: 5.0\n",
            "HEllo: \n",
            " [42172.11940021 42221.30641925 42286.40203684 42450.83660778\n",
            " 42700.16848076 42820.54293645 42857.32167373 43000.        ]\n",
            "2023-04-10 19:23:09,528 [INFO] PGN firing rate = 8.00 Hz\n"
          ]
        },
        {
          "output_type": "stream",
          "name": "stderr",
          "text": [
            "INFO:NEURONIOUtils:PGN firing rate = 8.00 Hz\n"
          ]
        },
        {
          "output_type": "stream",
          "name": "stdout",
          "text": [
            "2023-04-10 19:23:09,535 [INFO] Volume = 0.73 ml\n"
          ]
        },
        {
          "output_type": "stream",
          "name": "stderr",
          "text": [
            "INFO:NEURONIOUtils:Volume = 0.73 ml\n"
          ]
        },
        {
          "output_type": "stream",
          "name": "stdout",
          "text": [
            "2023-04-10 19:23:09,544 [INFO] Pressure = 14.56 cm H20\n"
          ]
        },
        {
          "output_type": "stream",
          "name": "stderr",
          "text": [
            "INFO:NEURONIOUtils:Pressure = 14.56 cm H20\n"
          ]
        },
        {
          "output_type": "stream",
          "name": "stdout",
          "text": [
            "2023-04-10 19:23:09,548 [INFO] Bladder afferent firing rate = 5.00 Hz\n"
          ]
        },
        {
          "output_type": "stream",
          "name": "stderr",
          "text": [
            "INFO:NEURONIOUtils:Bladder afferent firing rate = 5.00 Hz\n"
          ]
        },
        {
          "output_type": "stream",
          "name": "stdout",
          "text": [
            "2023-04-10 19:23:09,889 [INFO]     step:430000 t_sim:43000.00 ms\n"
          ]
        },
        {
          "output_type": "stream",
          "name": "stderr",
          "text": [
            "INFO:NEURONIOUtils:    step:430000 t_sim:43000.00 ms\n"
          ]
        },
        {
          "output_type": "stream",
          "name": "stdout",
          "text": [
            "Caclulating firing rates for times 42000.0 to 43000.0 ms\n",
            "node_id\tHz\n",
            "0\t\t8.0\n",
            "firing rate avg: 8.0\n",
            "Grill PGN fr = 12.812000000000001 Hz\n",
            "Calculated Bladder Afferent Firing Rate: 5.0\n",
            "HEllo: \n",
            " [43066.65682876 43345.71429895 43573.58485951 43617.48594769\n",
            " 43759.39405777 43865.42481647 43967.92125965 43972.58952624\n",
            " 44000.        ]\n",
            "2023-04-10 19:23:09,904 [INFO] PGN firing rate = 8.00 Hz\n"
          ]
        },
        {
          "output_type": "stream",
          "name": "stderr",
          "text": [
            "INFO:NEURONIOUtils:PGN firing rate = 8.00 Hz\n"
          ]
        },
        {
          "output_type": "stream",
          "name": "stdout",
          "text": [
            "2023-04-10 19:23:09,907 [INFO] Volume = 0.75 ml\n"
          ]
        },
        {
          "output_type": "stream",
          "name": "stderr",
          "text": [
            "INFO:NEURONIOUtils:Volume = 0.75 ml\n"
          ]
        },
        {
          "output_type": "stream",
          "name": "stdout",
          "text": [
            "2023-04-10 19:23:09,911 [INFO] Pressure = 15.06 cm H20\n"
          ]
        },
        {
          "output_type": "stream",
          "name": "stderr",
          "text": [
            "INFO:NEURONIOUtils:Pressure = 15.06 cm H20\n"
          ]
        },
        {
          "output_type": "stream",
          "name": "stdout",
          "text": [
            "2023-04-10 19:23:09,914 [INFO] Bladder afferent firing rate = 5.00 Hz\n"
          ]
        },
        {
          "output_type": "stream",
          "name": "stderr",
          "text": [
            "INFO:NEURONIOUtils:Bladder afferent firing rate = 5.00 Hz\n"
          ]
        },
        {
          "output_type": "stream",
          "name": "stdout",
          "text": [
            "2023-04-10 19:23:10,428 [INFO]     step:440000 t_sim:44000.00 ms\n"
          ]
        },
        {
          "output_type": "stream",
          "name": "stderr",
          "text": [
            "INFO:NEURONIOUtils:    step:440000 t_sim:44000.00 ms\n"
          ]
        },
        {
          "output_type": "stream",
          "name": "stdout",
          "text": [
            "Caclulating firing rates for times 43000.0 to 44000.0 ms\n",
            "node_id\tHz\n",
            "0\t\t8.0\n",
            "firing rate avg: 8.0\n",
            "Grill PGN fr = 12.812000000000001 Hz\n",
            "Calculated Bladder Afferent Firing Rate: 5.0\n",
            "HEllo: \n",
            " [44011.88682552 44416.53852071 44667.88926312 44893.39838441\n",
            " 45000.        ]\n",
            "2023-04-10 19:23:10,444 [INFO] PGN firing rate = 8.00 Hz\n"
          ]
        },
        {
          "output_type": "stream",
          "name": "stderr",
          "text": [
            "INFO:NEURONIOUtils:PGN firing rate = 8.00 Hz\n"
          ]
        },
        {
          "output_type": "stream",
          "name": "stdout",
          "text": [
            "2023-04-10 19:23:10,449 [INFO] Volume = 0.77 ml\n"
          ]
        },
        {
          "output_type": "stream",
          "name": "stderr",
          "text": [
            "INFO:NEURONIOUtils:Volume = 0.77 ml\n"
          ]
        },
        {
          "output_type": "stream",
          "name": "stdout",
          "text": [
            "2023-04-10 19:23:10,453 [INFO] Pressure = 15.56 cm H20\n"
          ]
        },
        {
          "output_type": "stream",
          "name": "stderr",
          "text": [
            "INFO:NEURONIOUtils:Pressure = 15.56 cm H20\n"
          ]
        },
        {
          "output_type": "stream",
          "name": "stdout",
          "text": [
            "2023-04-10 19:23:10,455 [INFO] Bladder afferent firing rate = 5.00 Hz\n"
          ]
        },
        {
          "output_type": "stream",
          "name": "stderr",
          "text": [
            "INFO:NEURONIOUtils:Bladder afferent firing rate = 5.00 Hz\n"
          ]
        },
        {
          "output_type": "stream",
          "name": "stdout",
          "text": [
            "2023-04-10 19:23:10,858 [INFO]     step:450000 t_sim:45000.00 ms\n"
          ]
        },
        {
          "output_type": "stream",
          "name": "stderr",
          "text": [
            "INFO:NEURONIOUtils:    step:450000 t_sim:45000.00 ms\n"
          ]
        },
        {
          "output_type": "stream",
          "name": "stdout",
          "text": [
            "Caclulating firing rates for times 44000.0 to 45000.0 ms\n",
            "node_id\tHz\n",
            "0\t\t5.0\n",
            "firing rate avg: 5.0\n",
            "Grill PGN fr = 7.925000000000001 Hz\n",
            "Calculated Bladder Afferent Firing Rate: 5.0\n",
            "HEllo: \n",
            " [45481.93280938 45748.83886374 46000.        ]\n",
            "2023-04-10 19:23:10,872 [INFO] PGN firing rate = 5.00 Hz\n"
          ]
        },
        {
          "output_type": "stream",
          "name": "stderr",
          "text": [
            "INFO:NEURONIOUtils:PGN firing rate = 5.00 Hz\n"
          ]
        },
        {
          "output_type": "stream",
          "name": "stdout",
          "text": [
            "2023-04-10 19:23:10,877 [INFO] Volume = 0.78 ml\n"
          ]
        },
        {
          "output_type": "stream",
          "name": "stderr",
          "text": [
            "INFO:NEURONIOUtils:Volume = 0.78 ml\n"
          ]
        },
        {
          "output_type": "stream",
          "name": "stdout",
          "text": [
            "2023-04-10 19:23:10,879 [INFO] Pressure = 15.09 cm H20\n"
          ]
        },
        {
          "output_type": "stream",
          "name": "stderr",
          "text": [
            "INFO:NEURONIOUtils:Pressure = 15.09 cm H20\n"
          ]
        },
        {
          "output_type": "stream",
          "name": "stdout",
          "text": [
            "2023-04-10 19:23:10,881 [INFO] Bladder afferent firing rate = 5.00 Hz\n"
          ]
        },
        {
          "output_type": "stream",
          "name": "stderr",
          "text": [
            "INFO:NEURONIOUtils:Bladder afferent firing rate = 5.00 Hz\n"
          ]
        },
        {
          "output_type": "stream",
          "name": "stdout",
          "text": [
            "2023-04-10 19:23:11,219 [INFO]     step:460000 t_sim:46000.00 ms\n"
          ]
        },
        {
          "output_type": "stream",
          "name": "stderr",
          "text": [
            "INFO:NEURONIOUtils:    step:460000 t_sim:46000.00 ms\n"
          ]
        },
        {
          "output_type": "stream",
          "name": "stdout",
          "text": [
            "Caclulating firing rates for times 45000.0 to 46000.0 ms\n",
            "node_id\tHz\n",
            "0\t\t3.0\n",
            "firing rate avg: 3.0\n",
            "Grill PGN fr = 4.657 Hz\n",
            "Calculated Bladder Afferent Firing Rate: 5.0\n",
            "HEllo: \n",
            " [46462.8861368 46864.2598112 47000.       ]\n",
            "2023-04-10 19:23:11,235 [INFO] PGN firing rate = 3.00 Hz\n"
          ]
        },
        {
          "output_type": "stream",
          "name": "stderr",
          "text": [
            "INFO:NEURONIOUtils:PGN firing rate = 3.00 Hz\n"
          ]
        },
        {
          "output_type": "stream",
          "name": "stdout",
          "text": [
            "2023-04-10 19:23:11,238 [INFO] Volume = 0.80 ml\n"
          ]
        },
        {
          "output_type": "stream",
          "name": "stderr",
          "text": [
            "INFO:NEURONIOUtils:Volume = 0.80 ml\n"
          ]
        },
        {
          "output_type": "stream",
          "name": "stdout",
          "text": [
            "2023-04-10 19:23:11,248 [INFO] Pressure = 14.93 cm H20\n"
          ]
        },
        {
          "output_type": "stream",
          "name": "stderr",
          "text": [
            "INFO:NEURONIOUtils:Pressure = 14.93 cm H20\n"
          ]
        },
        {
          "output_type": "stream",
          "name": "stdout",
          "text": [
            "2023-04-10 19:23:11,253 [INFO] Bladder afferent firing rate = 5.00 Hz\n"
          ]
        },
        {
          "output_type": "stream",
          "name": "stderr",
          "text": [
            "INFO:NEURONIOUtils:Bladder afferent firing rate = 5.00 Hz\n"
          ]
        },
        {
          "output_type": "stream",
          "name": "stdout",
          "text": [
            "2023-04-10 19:23:11,633 [INFO]     step:470000 t_sim:47000.00 ms\n"
          ]
        },
        {
          "output_type": "stream",
          "name": "stderr",
          "text": [
            "INFO:NEURONIOUtils:    step:470000 t_sim:47000.00 ms\n"
          ]
        },
        {
          "output_type": "stream",
          "name": "stdout",
          "text": [
            "Caclulating firing rates for times 46000.0 to 47000.0 ms\n",
            "node_id\tHz\n",
            "0\t\t3.0\n",
            "firing rate avg: 3.0\n",
            "Grill PGN fr = 4.657 Hz\n",
            "Calculated Bladder Afferent Firing Rate: 5.0\n",
            "HEllo: \n",
            " [47130.67483614 47153.40354064 47219.29215413 47470.99306161\n",
            " 47789.0630797  47953.42367129 48000.        ]\n",
            "2023-04-10 19:23:11,652 [INFO] PGN firing rate = 3.00 Hz\n"
          ]
        },
        {
          "output_type": "stream",
          "name": "stderr",
          "text": [
            "INFO:NEURONIOUtils:PGN firing rate = 3.00 Hz\n"
          ]
        },
        {
          "output_type": "stream",
          "name": "stdout",
          "text": [
            "2023-04-10 19:23:11,655 [INFO] Volume = 0.82 ml\n"
          ]
        },
        {
          "output_type": "stream",
          "name": "stderr",
          "text": [
            "INFO:NEURONIOUtils:Volume = 0.82 ml\n"
          ]
        },
        {
          "output_type": "stream",
          "name": "stdout",
          "text": [
            "2023-04-10 19:23:11,664 [INFO] Pressure = 15.43 cm H20\n"
          ]
        },
        {
          "output_type": "stream",
          "name": "stderr",
          "text": [
            "INFO:NEURONIOUtils:Pressure = 15.43 cm H20\n"
          ]
        },
        {
          "output_type": "stream",
          "name": "stdout",
          "text": [
            "2023-04-10 19:23:11,670 [INFO] Bladder afferent firing rate = 5.00 Hz\n"
          ]
        },
        {
          "output_type": "stream",
          "name": "stderr",
          "text": [
            "INFO:NEURONIOUtils:Bladder afferent firing rate = 5.00 Hz\n"
          ]
        },
        {
          "output_type": "stream",
          "name": "stdout",
          "text": [
            "2023-04-10 19:23:12,010 [INFO]     step:480000 t_sim:48000.00 ms\n"
          ]
        },
        {
          "output_type": "stream",
          "name": "stderr",
          "text": [
            "INFO:NEURONIOUtils:    step:480000 t_sim:48000.00 ms\n"
          ]
        },
        {
          "output_type": "stream",
          "name": "stdout",
          "text": [
            "Caclulating firing rates for times 47000.0 to 48000.0 ms\n",
            "node_id\tHz\n",
            "0\t\t7.0\n",
            "firing rate avg: 7.0\n",
            "Grill PGN fr = 11.169 Hz\n",
            "Calculated Bladder Afferent Firing Rate: 6.281773855180591\n",
            "HEllo: \n",
            " [48239.88547508 48362.10476475 48434.05059209 48747.65446885\n",
            " 48841.61477247 48946.04183069 49000.        ]\n",
            "2023-04-10 19:23:12,030 [INFO] PGN firing rate = 7.00 Hz\n"
          ]
        },
        {
          "output_type": "stream",
          "name": "stderr",
          "text": [
            "INFO:NEURONIOUtils:PGN firing rate = 7.00 Hz\n"
          ]
        },
        {
          "output_type": "stream",
          "name": "stdout",
          "text": [
            "2023-04-10 19:23:12,034 [INFO] Volume = 0.83 ml\n"
          ]
        },
        {
          "output_type": "stream",
          "name": "stderr",
          "text": [
            "INFO:NEURONIOUtils:Volume = 0.83 ml\n"
          ]
        },
        {
          "output_type": "stream",
          "name": "stdout",
          "text": [
            "2023-04-10 19:23:12,038 [INFO] Pressure = 17.23 cm H20\n"
          ]
        },
        {
          "output_type": "stream",
          "name": "stderr",
          "text": [
            "INFO:NEURONIOUtils:Pressure = 17.23 cm H20\n"
          ]
        },
        {
          "output_type": "stream",
          "name": "stdout",
          "text": [
            "2023-04-10 19:23:12,041 [INFO] Bladder afferent firing rate = 6.28 Hz\n"
          ]
        },
        {
          "output_type": "stream",
          "name": "stderr",
          "text": [
            "INFO:NEURONIOUtils:Bladder afferent firing rate = 6.28 Hz\n"
          ]
        },
        {
          "output_type": "stream",
          "name": "stdout",
          "text": [
            "2023-04-10 19:23:12,525 [INFO]     step:490000 t_sim:49000.00 ms\n"
          ]
        },
        {
          "output_type": "stream",
          "name": "stderr",
          "text": [
            "INFO:NEURONIOUtils:    step:490000 t_sim:49000.00 ms\n"
          ]
        },
        {
          "output_type": "stream",
          "name": "stdout",
          "text": [
            "Caclulating firing rates for times 48000.0 to 49000.0 ms\n",
            "node_id\tHz\n",
            "0\t\t7.0\n",
            "firing rate avg: 7.0\n",
            "Grill PGN fr = 11.169 Hz\n",
            "Calculated Bladder Afferent Firing Rate: 6.775060759841832\n",
            "HEllo: \n",
            " [49198.34298402 49240.87429398 49268.73194836 49319.81355299\n",
            " 49406.80620366 49465.62817364 49481.8131588  49642.43785064\n",
            " 49959.24632252 50000.        ]\n",
            "2023-04-10 19:23:12,550 [INFO] PGN firing rate = 7.00 Hz\n"
          ]
        },
        {
          "output_type": "stream",
          "name": "stderr",
          "text": [
            "INFO:NEURONIOUtils:PGN firing rate = 7.00 Hz\n"
          ]
        },
        {
          "output_type": "stream",
          "name": "stdout",
          "text": [
            "2023-04-10 19:23:12,557 [INFO] Volume = 0.85 ml\n"
          ]
        },
        {
          "output_type": "stream",
          "name": "stderr",
          "text": [
            "INFO:NEURONIOUtils:Volume = 0.85 ml\n"
          ]
        },
        {
          "output_type": "stream",
          "name": "stdout",
          "text": [
            "2023-04-10 19:23:12,559 [INFO] Pressure = 17.73 cm H20\n"
          ]
        },
        {
          "output_type": "stream",
          "name": "stderr",
          "text": [
            "INFO:NEURONIOUtils:Pressure = 17.73 cm H20\n"
          ]
        },
        {
          "output_type": "stream",
          "name": "stdout",
          "text": [
            "2023-04-10 19:23:12,561 [INFO] Bladder afferent firing rate = 6.78 Hz\n"
          ]
        },
        {
          "output_type": "stream",
          "name": "stderr",
          "text": [
            "INFO:NEURONIOUtils:Bladder afferent firing rate = 6.78 Hz\n"
          ]
        },
        {
          "output_type": "stream",
          "name": "stdout",
          "text": [
            "2023-04-10 19:23:12,960 [INFO]     step:500000 t_sim:50000.00 ms\n"
          ]
        },
        {
          "output_type": "stream",
          "name": "stderr",
          "text": [
            "INFO:NEURONIOUtils:    step:500000 t_sim:50000.00 ms\n"
          ]
        },
        {
          "output_type": "stream",
          "name": "stdout",
          "text": [
            "Caclulating firing rates for times 49000.0 to 50000.0 ms\n",
            "node_id\tHz\n",
            "0\t\t10.0\n",
            "firing rate avg: 10.0\n",
            "Grill PGN fr = 16.2 Hz\n",
            "Calculated Bladder Afferent Firing Rate: 8.307924863624928\n",
            "HEllo: \n",
            " [50184.50768981 50746.92871402 50798.12902973 50828.37576188\n",
            " 51000.        ]\n",
            "2023-04-10 19:23:12,981 [INFO] PGN firing rate = 10.00 Hz\n"
          ]
        },
        {
          "output_type": "stream",
          "name": "stderr",
          "text": [
            "INFO:NEURONIOUtils:PGN firing rate = 10.00 Hz\n"
          ]
        },
        {
          "output_type": "stream",
          "name": "stdout",
          "text": [
            "2023-04-10 19:23:12,989 [INFO] Volume = 0.87 ml\n"
          ]
        },
        {
          "output_type": "stream",
          "name": "stderr",
          "text": [
            "INFO:NEURONIOUtils:Volume = 0.87 ml\n"
          ]
        },
        {
          "output_type": "stream",
          "name": "stdout",
          "text": [
            "2023-04-10 19:23:12,995 [INFO] Pressure = 19.24 cm H20\n"
          ]
        },
        {
          "output_type": "stream",
          "name": "stderr",
          "text": [
            "INFO:NEURONIOUtils:Pressure = 19.24 cm H20\n"
          ]
        },
        {
          "output_type": "stream",
          "name": "stdout",
          "text": [
            "2023-04-10 19:23:12,997 [INFO] Bladder afferent firing rate = 8.31 Hz\n"
          ]
        },
        {
          "output_type": "stream",
          "name": "stderr",
          "text": [
            "INFO:NEURONIOUtils:Bladder afferent firing rate = 8.31 Hz\n"
          ]
        },
        {
          "output_type": "stream",
          "name": "stdout",
          "text": [
            "2023-04-10 19:23:13,445 [INFO]     step:510000 t_sim:51000.00 ms\n"
          ]
        },
        {
          "output_type": "stream",
          "name": "stderr",
          "text": [
            "INFO:NEURONIOUtils:    step:510000 t_sim:51000.00 ms\n"
          ]
        },
        {
          "output_type": "stream",
          "name": "stdout",
          "text": [
            "Caclulating firing rates for times 50000.0 to 51000.0 ms\n",
            "node_id\tHz\n",
            "0\t\t5.0\n",
            "firing rate avg: 5.0\n",
            "Grill PGN fr = 7.925000000000001 Hz\n",
            "Calculated Bladder Afferent Firing Rate: 7.12648614117505\n",
            "HEllo: \n",
            " [51178.54448811 51186.69854782 51306.8464175  51368.56108795\n",
            " 51829.01605773 52000.        ]\n",
            "2023-04-10 19:23:13,473 [INFO] PGN firing rate = 5.00 Hz\n"
          ]
        },
        {
          "output_type": "stream",
          "name": "stderr",
          "text": [
            "INFO:NEURONIOUtils:PGN firing rate = 5.00 Hz\n"
          ]
        },
        {
          "output_type": "stream",
          "name": "stdout",
          "text": [
            "2023-04-10 19:23:13,477 [INFO] Volume = 0.88 ml\n"
          ]
        },
        {
          "output_type": "stream",
          "name": "stderr",
          "text": [
            "INFO:NEURONIOUtils:Volume = 0.88 ml\n"
          ]
        },
        {
          "output_type": "stream",
          "name": "stdout",
          "text": [
            "2023-04-10 19:23:13,480 [INFO] Pressure = 18.09 cm H20\n"
          ]
        },
        {
          "output_type": "stream",
          "name": "stderr",
          "text": [
            "INFO:NEURONIOUtils:Pressure = 18.09 cm H20\n"
          ]
        },
        {
          "output_type": "stream",
          "name": "stdout",
          "text": [
            "2023-04-10 19:23:13,482 [INFO] Bladder afferent firing rate = 7.13 Hz\n"
          ]
        },
        {
          "output_type": "stream",
          "name": "stderr",
          "text": [
            "INFO:NEURONIOUtils:Bladder afferent firing rate = 7.13 Hz\n"
          ]
        },
        {
          "output_type": "stream",
          "name": "stdout",
          "text": [
            "2023-04-10 19:23:13,920 [INFO]     step:520000 t_sim:52000.00 ms\n"
          ]
        },
        {
          "output_type": "stream",
          "name": "stderr",
          "text": [
            "INFO:NEURONIOUtils:    step:520000 t_sim:52000.00 ms\n"
          ]
        },
        {
          "output_type": "stream",
          "name": "stdout",
          "text": [
            "Caclulating firing rates for times 51000.0 to 52000.0 ms\n",
            "node_id\tHz\n",
            "0\t\t5.0\n",
            "firing rate avg: 5.0\n",
            "Grill PGN fr = 7.925000000000001 Hz\n",
            "Calculated Bladder Afferent Firing Rate: 7.633334999579818\n",
            "HEllo: \n",
            " [52053.42774956 52513.35471751 52840.49459645 52864.94550814\n",
            " 53000.        ]\n",
            "2023-04-10 19:23:13,937 [INFO] PGN firing rate = 5.00 Hz\n"
          ]
        },
        {
          "output_type": "stream",
          "name": "stderr",
          "text": [
            "INFO:NEURONIOUtils:PGN firing rate = 5.00 Hz\n"
          ]
        },
        {
          "output_type": "stream",
          "name": "stdout",
          "text": [
            "2023-04-10 19:23:13,942 [INFO] Volume = 0.90 ml\n"
          ]
        },
        {
          "output_type": "stream",
          "name": "stderr",
          "text": [
            "INFO:NEURONIOUtils:Volume = 0.90 ml\n"
          ]
        },
        {
          "output_type": "stream",
          "name": "stdout",
          "text": [
            "2023-04-10 19:23:13,947 [INFO] Pressure = 18.59 cm H20\n"
          ]
        },
        {
          "output_type": "stream",
          "name": "stderr",
          "text": [
            "INFO:NEURONIOUtils:Pressure = 18.59 cm H20\n"
          ]
        },
        {
          "output_type": "stream",
          "name": "stdout",
          "text": [
            "2023-04-10 19:23:13,951 [INFO] Bladder afferent firing rate = 7.63 Hz\n"
          ]
        },
        {
          "output_type": "stream",
          "name": "stderr",
          "text": [
            "INFO:NEURONIOUtils:Bladder afferent firing rate = 7.63 Hz\n"
          ]
        },
        {
          "output_type": "stream",
          "name": "stdout",
          "text": [
            "2023-04-10 19:23:14,292 [INFO]     step:530000 t_sim:53000.00 ms\n"
          ]
        },
        {
          "output_type": "stream",
          "name": "stderr",
          "text": [
            "INFO:NEURONIOUtils:    step:530000 t_sim:53000.00 ms\n"
          ]
        },
        {
          "output_type": "stream",
          "name": "stdout",
          "text": [
            "Caclulating firing rates for times 52000.0 to 53000.0 ms\n",
            "node_id\tHz\n",
            "0\t\t5.0\n",
            "firing rate avg: 5.0\n",
            "Grill PGN fr = 7.925000000000001 Hz\n",
            "Calculated Bladder Afferent Firing Rate: 8.147267681213416\n",
            "HEllo: \n",
            " [53048.78796748 53049.24836996 53098.70620606 53354.92067006\n",
            " 53520.19192677 53677.35646418 53824.80080143 53925.05455573\n",
            " 53929.5290724  53970.3795579  54000.        ]\n",
            "2023-04-10 19:23:14,313 [INFO] PGN firing rate = 5.00 Hz\n"
          ]
        },
        {
          "output_type": "stream",
          "name": "stderr",
          "text": [
            "INFO:NEURONIOUtils:PGN firing rate = 5.00 Hz\n"
          ]
        },
        {
          "output_type": "stream",
          "name": "stdout",
          "text": [
            "2023-04-10 19:23:14,320 [INFO] Volume = 0.92 ml\n"
          ]
        },
        {
          "output_type": "stream",
          "name": "stderr",
          "text": [
            "INFO:NEURONIOUtils:Volume = 0.92 ml\n"
          ]
        },
        {
          "output_type": "stream",
          "name": "stdout",
          "text": [
            "2023-04-10 19:23:14,324 [INFO] Pressure = 19.09 cm H20\n"
          ]
        },
        {
          "output_type": "stream",
          "name": "stderr",
          "text": [
            "INFO:NEURONIOUtils:Pressure = 19.09 cm H20\n"
          ]
        },
        {
          "output_type": "stream",
          "name": "stdout",
          "text": [
            "2023-04-10 19:23:14,327 [INFO] Bladder afferent firing rate = 8.15 Hz\n"
          ]
        },
        {
          "output_type": "stream",
          "name": "stderr",
          "text": [
            "INFO:NEURONIOUtils:Bladder afferent firing rate = 8.15 Hz\n"
          ]
        },
        {
          "output_type": "stream",
          "name": "stdout",
          "text": [
            "2023-04-10 19:23:14,697 [INFO]     step:540000 t_sim:54000.00 ms\n"
          ]
        },
        {
          "output_type": "stream",
          "name": "stderr",
          "text": [
            "INFO:NEURONIOUtils:    step:540000 t_sim:54000.00 ms\n"
          ]
        },
        {
          "output_type": "stream",
          "name": "stdout",
          "text": [
            "Caclulating firing rates for times 53000.0 to 54000.0 ms\n",
            "node_id\tHz\n",
            "0\t\t9.0\n",
            "firing rate avg: 9.0\n",
            "Grill PGN fr = 14.485 Hz\n",
            "Calculated Bladder Afferent Firing Rate: 10.059173548126708\n",
            "HEllo: \n",
            " [54011.03677866 54103.34277585 54111.34742025 54179.50669591\n",
            " 54211.38875978 54260.17829902 54299.06186157 54329.64286339\n",
            " 54339.23744894 54530.78373573 54744.18901292 55000.        ]\n",
            "2023-04-10 19:23:14,713 [INFO] PGN firing rate = 9.00 Hz\n"
          ]
        },
        {
          "output_type": "stream",
          "name": "stderr",
          "text": [
            "INFO:NEURONIOUtils:PGN firing rate = 9.00 Hz\n"
          ]
        },
        {
          "output_type": "stream",
          "name": "stdout",
          "text": [
            "2023-04-10 19:23:14,717 [INFO] Volume = 0.93 ml\n"
          ]
        },
        {
          "output_type": "stream",
          "name": "stderr",
          "text": [
            "INFO:NEURONIOUtils:Volume = 0.93 ml\n"
          ]
        },
        {
          "output_type": "stream",
          "name": "stdout",
          "text": [
            "2023-04-10 19:23:14,720 [INFO] Pressure = 20.90 cm H20\n"
          ]
        },
        {
          "output_type": "stream",
          "name": "stderr",
          "text": [
            "INFO:NEURONIOUtils:Pressure = 20.90 cm H20\n"
          ]
        },
        {
          "output_type": "stream",
          "name": "stdout",
          "text": [
            "2023-04-10 19:23:14,725 [INFO] Bladder afferent firing rate = 10.06 Hz\n"
          ]
        },
        {
          "output_type": "stream",
          "name": "stderr",
          "text": [
            "INFO:NEURONIOUtils:Bladder afferent firing rate = 10.06 Hz\n"
          ]
        },
        {
          "output_type": "stream",
          "name": "stdout",
          "text": [
            "2023-04-10 19:23:15,067 [INFO]     step:550000 t_sim:55000.00 ms\n"
          ]
        },
        {
          "output_type": "stream",
          "name": "stderr",
          "text": [
            "INFO:NEURONIOUtils:    step:550000 t_sim:55000.00 ms\n"
          ]
        },
        {
          "output_type": "stream",
          "name": "stdout",
          "text": [
            "Caclulating firing rates for times 54000.0 to 55000.0 ms\n",
            "node_id\tHz\n",
            "0\t\t11.0\n",
            "firing rate avg: 11.0\n",
            "Grill PGN fr = 17.969 Hz\n",
            "Calculated Bladder Afferent Firing Rate: 11.354129555766354\n",
            "HEllo: \n",
            " [55066.7502399  55080.71234043 55167.80374467 55199.2181253\n",
            " 55349.29865627 55449.94923069 55491.35278744 55506.5948557\n",
            " 55560.07174892 55684.46934491 55751.52311283 55782.72228635\n",
            " 55791.69365074 55795.93849922 55848.10653074 55860.139908\n",
            " 55871.19242622 56000.        ]\n",
            "2023-04-10 19:23:15,083 [INFO] PGN firing rate = 11.00 Hz\n"
          ]
        },
        {
          "output_type": "stream",
          "name": "stderr",
          "text": [
            "INFO:NEURONIOUtils:PGN firing rate = 11.00 Hz\n"
          ]
        },
        {
          "output_type": "stream",
          "name": "stdout",
          "text": [
            "2023-04-10 19:23:15,087 [INFO] Volume = 0.95 ml\n"
          ]
        },
        {
          "output_type": "stream",
          "name": "stderr",
          "text": [
            "INFO:NEURONIOUtils:Volume = 0.95 ml\n"
          ]
        },
        {
          "output_type": "stream",
          "name": "stdout",
          "text": [
            "2023-04-10 19:23:15,091 [INFO] Pressure = 22.09 cm H20\n"
          ]
        },
        {
          "output_type": "stream",
          "name": "stderr",
          "text": [
            "INFO:NEURONIOUtils:Pressure = 22.09 cm H20\n"
          ]
        },
        {
          "output_type": "stream",
          "name": "stdout",
          "text": [
            "2023-04-10 19:23:15,094 [INFO] Bladder afferent firing rate = 11.35 Hz\n"
          ]
        },
        {
          "output_type": "stream",
          "name": "stderr",
          "text": [
            "INFO:NEURONIOUtils:Bladder afferent firing rate = 11.35 Hz\n"
          ]
        },
        {
          "output_type": "stream",
          "name": "stdout",
          "text": [
            "2023-04-10 19:23:15,489 [INFO]     step:560000 t_sim:56000.00 ms\n"
          ]
        },
        {
          "output_type": "stream",
          "name": "stderr",
          "text": [
            "INFO:NEURONIOUtils:    step:560000 t_sim:56000.00 ms\n"
          ]
        },
        {
          "output_type": "stream",
          "name": "stdout",
          "text": [
            "Caclulating firing rates for times 55000.0 to 56000.0 ms\n",
            "node_id\tHz\n",
            "0\t\t17.0\n",
            "firing rate avg: 17.0\n",
            "Grill PGN fr = 30.389000000000003 Hz\n",
            "Calculated Bladder Afferent Firing Rate: 14.636660671960666\n",
            "HEllo: \n",
            " [56022.72949932 56159.03389195 56162.83583577 56285.42105881\n",
            " 56300.09005285 56304.26333564 56334.70891886 56368.8192197\n",
            " 56564.60605091 56740.65028126 56745.12391358 56811.85416208\n",
            " 57000.        ]\n",
            "2023-04-10 19:23:15,510 [INFO] PGN firing rate = 17.00 Hz\n"
          ]
        },
        {
          "output_type": "stream",
          "name": "stderr",
          "text": [
            "INFO:NEURONIOUtils:PGN firing rate = 17.00 Hz\n"
          ]
        },
        {
          "output_type": "stream",
          "name": "stdout",
          "text": [
            "2023-04-10 19:23:15,513 [INFO] Volume = 0.97 ml\n"
          ]
        },
        {
          "output_type": "stream",
          "name": "stderr",
          "text": [
            "INFO:NEURONIOUtils:Volume = 0.97 ml\n"
          ]
        },
        {
          "output_type": "stream",
          "name": "stdout",
          "text": [
            "2023-04-10 19:23:15,516 [INFO] Pressure = 25.08 cm H20\n"
          ]
        },
        {
          "output_type": "stream",
          "name": "stderr",
          "text": [
            "INFO:NEURONIOUtils:Pressure = 25.08 cm H20\n"
          ]
        },
        {
          "output_type": "stream",
          "name": "stdout",
          "text": [
            "2023-04-10 19:23:15,524 [INFO] Bladder afferent firing rate = 14.64 Hz\n"
          ]
        },
        {
          "output_type": "stream",
          "name": "stderr",
          "text": [
            "INFO:NEURONIOUtils:Bladder afferent firing rate = 14.64 Hz\n"
          ]
        },
        {
          "output_type": "stream",
          "name": "stdout",
          "text": [
            "2023-04-10 19:23:15,889 [INFO]     step:570000 t_sim:57000.00 ms\n"
          ]
        },
        {
          "output_type": "stream",
          "name": "stderr",
          "text": [
            "INFO:NEURONIOUtils:    step:570000 t_sim:57000.00 ms\n"
          ]
        },
        {
          "output_type": "stream",
          "name": "stdout",
          "text": [
            "Caclulating firing rates for times 56000.0 to 57000.0 ms\n",
            "node_id\tHz\n",
            "0\t\t10.0\n",
            "firing rate avg: 10.0\n",
            "Grill PGN fr = 16.2 Hz\n",
            "Calculated Bladder Afferent Firing Rate: 12.060542400187368\n",
            "HEllo: \n",
            " [57041.23342389 57061.6171541  57105.20619589 57106.74029271\n",
            " 57174.43484721 57197.77787294 57384.57145107 57559.08354441\n",
            " 57563.02457663 57579.79011016 57595.6378376  57597.08468068\n",
            " 57717.67453613 57725.1881666  57841.9405782  57942.47983641\n",
            " 58000.        ]\n",
            "2023-04-10 19:23:15,910 [INFO] PGN firing rate = 10.00 Hz\n"
          ]
        },
        {
          "output_type": "stream",
          "name": "stderr",
          "text": [
            "INFO:NEURONIOUtils:PGN firing rate = 10.00 Hz\n"
          ]
        },
        {
          "output_type": "stream",
          "name": "stdout",
          "text": [
            "2023-04-10 19:23:15,914 [INFO] Volume = 0.98 ml\n"
          ]
        },
        {
          "output_type": "stream",
          "name": "stderr",
          "text": [
            "INFO:NEURONIOUtils:Volume = 0.98 ml\n"
          ]
        },
        {
          "output_type": "stream",
          "name": "stdout",
          "text": [
            "2023-04-10 19:23:15,923 [INFO] Pressure = 22.74 cm H20\n"
          ]
        },
        {
          "output_type": "stream",
          "name": "stderr",
          "text": [
            "INFO:NEURONIOUtils:Pressure = 22.74 cm H20\n"
          ]
        },
        {
          "output_type": "stream",
          "name": "stdout",
          "text": [
            "2023-04-10 19:23:15,927 [INFO] Bladder afferent firing rate = 12.06 Hz\n"
          ]
        },
        {
          "output_type": "stream",
          "name": "stderr",
          "text": [
            "INFO:NEURONIOUtils:Bladder afferent firing rate = 12.06 Hz\n"
          ]
        },
        {
          "output_type": "stream",
          "name": "stdout",
          "text": [
            "2023-04-10 19:23:16,296 [INFO]     step:580000 t_sim:58000.00 ms\n"
          ]
        },
        {
          "output_type": "stream",
          "name": "stderr",
          "text": [
            "INFO:NEURONIOUtils:    step:580000 t_sim:58000.00 ms\n"
          ]
        },
        {
          "output_type": "stream",
          "name": "stdout",
          "text": [
            "Caclulating firing rates for times 57000.0 to 58000.0 ms\n",
            "node_id\tHz\n",
            "0\t\t13.0\n",
            "firing rate avg: 13.0\n",
            "Grill PGN fr = 21.717000000000002 Hz\n",
            "Calculated Bladder Afferent Firing Rate: 13.825855789324649\n",
            "HEllo: \n",
            " [58026.19896786 58295.47724599 58311.3876625  58504.13492658\n",
            " 58675.5433733  58701.57362721 58738.48041533 58879.37868206\n",
            " 58904.87310784 58942.25268636 58950.87168278 58962.23371141\n",
            " 58994.71152861 59000.        ]\n",
            "2023-04-10 19:23:16,318 [INFO] PGN firing rate = 13.00 Hz\n"
          ]
        },
        {
          "output_type": "stream",
          "name": "stderr",
          "text": [
            "INFO:NEURONIOUtils:PGN firing rate = 13.00 Hz\n"
          ]
        },
        {
          "output_type": "stream",
          "name": "stdout",
          "text": [
            "2023-04-10 19:23:16,329 [INFO] Volume = 1.00 ml\n"
          ]
        },
        {
          "output_type": "stream",
          "name": "stderr",
          "text": [
            "INFO:NEURONIOUtils:Volume = 1.00 ml\n"
          ]
        },
        {
          "output_type": "stream",
          "name": "stdout",
          "text": [
            "2023-04-10 19:23:16,339 [INFO] Pressure = 24.34 cm H20\n"
          ]
        },
        {
          "output_type": "stream",
          "name": "stderr",
          "text": [
            "INFO:NEURONIOUtils:Pressure = 24.34 cm H20\n"
          ]
        },
        {
          "output_type": "stream",
          "name": "stdout",
          "text": [
            "2023-04-10 19:23:16,344 [INFO] Bladder afferent firing rate = 13.83 Hz\n"
          ]
        },
        {
          "output_type": "stream",
          "name": "stderr",
          "text": [
            "INFO:NEURONIOUtils:Bladder afferent firing rate = 13.83 Hz\n"
          ]
        },
        {
          "output_type": "stream",
          "name": "stdout",
          "text": [
            "2023-04-10 19:23:16,737 [INFO]     step:590000 t_sim:59000.00 ms\n"
          ]
        },
        {
          "output_type": "stream",
          "name": "stderr",
          "text": [
            "INFO:NEURONIOUtils:    step:590000 t_sim:59000.00 ms\n"
          ]
        },
        {
          "output_type": "stream",
          "name": "stdout",
          "text": [
            "Caclulating firing rates for times 58000.0 to 59000.0 ms\n",
            "node_id\tHz\n",
            "0\t\t14.0\n",
            "firing rate avg: 14.0\n",
            "Grill PGN fr = 23.72 Hz\n",
            "Calculated Bladder Afferent Firing Rate: 14.820083479620118\n",
            "HEllo: \n",
            " [59121.66110317 59125.51263953 59185.36322366 59222.53030548\n",
            " 59222.85548756 59327.96065205 59351.94936903 59382.133807\n",
            " 59427.19069711 59484.30186486 59541.97547719 59632.6227328\n",
            " 59634.44464638 59689.3619549  59708.45105766 59776.44031316\n",
            " 59785.4991843  59839.4307892  59862.19428175 59905.68425191\n",
            " 60000.        ]\n",
            "2023-04-10 19:23:16,761 [INFO] PGN firing rate = 14.00 Hz\n"
          ]
        },
        {
          "output_type": "stream",
          "name": "stderr",
          "text": [
            "INFO:NEURONIOUtils:PGN firing rate = 14.00 Hz\n"
          ]
        },
        {
          "output_type": "stream",
          "name": "stdout",
          "text": [
            "2023-04-10 19:23:16,765 [INFO] Volume = 1.02 ml\n"
          ]
        },
        {
          "output_type": "stream",
          "name": "stderr",
          "text": [
            "INFO:NEURONIOUtils:Volume = 1.02 ml\n"
          ]
        },
        {
          "output_type": "stream",
          "name": "stdout",
          "text": [
            "2023-04-10 19:23:16,767 [INFO] Pressure = 25.24 cm H20\n"
          ]
        },
        {
          "output_type": "stream",
          "name": "stderr",
          "text": [
            "INFO:NEURONIOUtils:Pressure = 25.24 cm H20\n"
          ]
        },
        {
          "output_type": "stream",
          "name": "stdout",
          "text": [
            "2023-04-10 19:23:16,768 [INFO] Bladder afferent firing rate = 14.82 Hz\n"
          ]
        },
        {
          "output_type": "stream",
          "name": "stderr",
          "text": [
            "INFO:NEURONIOUtils:Bladder afferent firing rate = 14.82 Hz\n"
          ]
        },
        {
          "output_type": "stream",
          "name": "stdout",
          "text": [
            "2023-04-10 19:23:17,161 [INFO]     step:600000 t_sim:60000.00 ms\n"
          ]
        },
        {
          "output_type": "stream",
          "name": "stderr",
          "text": [
            "INFO:NEURONIOUtils:    step:600000 t_sim:60000.00 ms\n"
          ]
        },
        {
          "output_type": "stream",
          "name": "stdout",
          "text": [
            "Caclulating firing rates for times 59000.0 to 60000.0 ms\n",
            "node_id\tHz\n",
            "0\t\t17.0\n",
            "firing rate avg: 17.0\n",
            "Grill PGN fr = 30.389000000000003 Hz\n",
            "Calculated Bladder Afferent Firing Rate: 16.83545773376568\n",
            "HEllo: \n",
            " [60147.5714827  60149.20101695 60255.96080059 60266.55463616\n",
            " 60301.07845319 60301.8178618  60515.82041535 60516.03811197\n",
            " 60574.9813118  60604.86186031 60645.81923456 60651.88669122\n",
            " 60655.11027559 60725.85986765 60757.03346065 60942.63136745\n",
            " 60995.02642873 61000.        ]\n",
            "2023-04-10 19:23:17,184 [INFO] PGN firing rate = 17.00 Hz\n"
          ]
        },
        {
          "output_type": "stream",
          "name": "stderr",
          "text": [
            "INFO:NEURONIOUtils:PGN firing rate = 17.00 Hz\n"
          ]
        },
        {
          "output_type": "stream",
          "name": "stdout",
          "text": [
            "2023-04-10 19:23:17,196 [INFO] Volume = 1.03 ml\n"
          ]
        },
        {
          "output_type": "stream",
          "name": "stderr",
          "text": [
            "INFO:NEURONIOUtils:Volume = 1.03 ml\n"
          ]
        },
        {
          "output_type": "stream",
          "name": "stdout",
          "text": [
            "2023-04-10 19:23:17,205 [INFO] Pressure = 27.08 cm H20\n"
          ]
        },
        {
          "output_type": "stream",
          "name": "stderr",
          "text": [
            "INFO:NEURONIOUtils:Pressure = 27.08 cm H20\n"
          ]
        },
        {
          "output_type": "stream",
          "name": "stdout",
          "text": [
            "2023-04-10 19:23:17,209 [INFO] Bladder afferent firing rate = 16.84 Hz\n"
          ]
        },
        {
          "output_type": "stream",
          "name": "stderr",
          "text": [
            "INFO:NEURONIOUtils:Bladder afferent firing rate = 16.84 Hz\n"
          ]
        },
        {
          "output_type": "stream",
          "name": "stdout",
          "text": [
            "2023-04-10 19:23:17,394 [INFO]     step:605000 t_sim:60500.00 ms\n"
          ]
        },
        {
          "output_type": "stream",
          "name": "stderr",
          "text": [
            "INFO:NEURONIOUtils:    step:605000 t_sim:60500.00 ms\n"
          ]
        },
        {
          "output_type": "stream",
          "name": "stdout",
          "text": [
            "Caclulating firing rates for times 60000.0 to 60500.0 ms\n",
            "node_id\tHz\n",
            "0\t\t5.0\n",
            "firing rate avg: 5.0\n",
            "Grill PGN fr = 7.925000000000001 Hz\n",
            "Calculated Bladder Afferent Firing Rate: 12.164717133669518\n",
            "HEllo: \n",
            " [60515.86346732 60557.56561836 60626.64989374 60708.54668595\n",
            " 60717.0280236  60804.8047618  60948.31529355 60981.15789142\n",
            " 61140.90582744 61189.65696297 61214.28689617 61402.82876193\n",
            " 61456.48126792 61500.        ]\n",
            "2023-04-10 19:23:17,416 [INFO] PGN firing rate = 5.00 Hz\n"
          ]
        },
        {
          "output_type": "stream",
          "name": "stderr",
          "text": [
            "INFO:NEURONIOUtils:PGN firing rate = 5.00 Hz\n"
          ]
        },
        {
          "output_type": "stream",
          "name": "stdout",
          "text": [
            "2023-04-10 19:23:17,421 [INFO] Volume = 1.04 ml\n"
          ]
        },
        {
          "output_type": "stream",
          "name": "stderr",
          "text": [
            "INFO:NEURONIOUtils:Volume = 1.04 ml\n"
          ]
        },
        {
          "output_type": "stream",
          "name": "stdout",
          "text": [
            "2023-04-10 19:23:17,424 [INFO] Pressure = 22.84 cm H20\n"
          ]
        },
        {
          "output_type": "stream",
          "name": "stderr",
          "text": [
            "INFO:NEURONIOUtils:Pressure = 22.84 cm H20\n"
          ]
        },
        {
          "output_type": "stream",
          "name": "stdout",
          "text": [
            "2023-04-10 19:23:17,428 [INFO] Bladder afferent firing rate = 12.16 Hz\n"
          ]
        },
        {
          "output_type": "stream",
          "name": "stderr",
          "text": [
            "INFO:NEURONIOUtils:Bladder afferent firing rate = 12.16 Hz\n"
          ]
        },
        {
          "output_type": "stream",
          "name": "stdout",
          "text": [
            "2023-04-10 19:23:17,477 [INFO] Simulation completed in 26.78 seconds \n"
          ]
        },
        {
          "output_type": "stream",
          "name": "stderr",
          "text": [
            "INFO:NEURONIOUtils:Simulation completed in 26.78 seconds \n"
          ]
        },
        {
          "output_type": "stream",
          "name": "stdout",
          "text": [
            "605000 0.1\n",
            "[0]\n"
          ]
        },
        {
          "output_type": "display_data",
          "data": {
            "text/plain": [
              "<Figure size 640x480 with 2 Axes>"
            ],
            "image/png": "[encoded data removed]"
          },
          "metadata": {}
        },
        {
          "output_type": "display_data",
          "data": {
            "text/plain": [
              "<Figure size 640x480 with 1 Axes>"
            ],
            "image/png": "[encoded data removed]"
          },
          "metadata": {}
        }
      ]
    },
    {
      "cell_type": "code",
      "source": [
        "# DO NOT RUN PAST THIS POINT\n",
        "# CODE BELOW THIS POINT ARE FILES FROM MODEL THAT CREATE THE FUNCTIONS AND PARAMETERS\n",
        "# I JUST ADDED THEM FOR EASY ACCESS AND VIEW OF CODE\n",
        "#\n",
        "#\n",
        "#\n",
        "#\n",
        "#\n",
        "#"
      ],
      "metadata": {
        "id": "HmgcN3EAPb4u"
      },
      "execution_count": null,
      "outputs": []
    },
    {
      "cell_type": "code",
      "source": [
        "# Feedback Loop\n",
        "\n",
        "\"\"\"Simulates an example network of 450 cell receiving two kinds of exernal input as defined in the configuration file\"\"\"\n",
        "import numpy as np\n",
        "import os\n",
        "import sys\n",
        "from bmtk.simulator import bionet\n",
        "from bmtk.simulator.bionet.modules.sim_module import SimulatorMod\n",
        "from bmtk.analyzer.spike_trains import plot_raster\n",
        "from bmtk.simulator.bionet.biocell import BioCell\n",
        "from bmtk.simulator.bionet.pointprocesscell import PointProcessCell\n",
        "from bmtk.utils.reports.spike_trains import PoissonSpikeGenerator\n",
        "from bmtk.simulator.bionet.io_tools import io\n",
        "\n",
        "from neuron import h\n",
        "\n",
        "\n",
        "pc = h.ParallelContext()\n",
        "\n",
        "\n",
        "class FeedBackLoop(SimulatorMod):\n",
        "    def __init__(self):\n",
        "        self._spike_events = {}\n",
        "        self._synapses = {}\n",
        "        self._netcons = {}\n",
        "        self._spike_records = {}\n",
        "        self._vect_stims = {}\n",
        "        self._spikes = {}\n",
        "\n",
        "        self._block_length_ms = 0.0\n",
        "        self._n_cells = 0\n",
        "        #self._current_input_rate = 5.0\n",
        "        \n",
        "        self.blad_fr = 1.0\n",
        "        self._prev_glob_press = 0.0\n",
        "        self._glob_press = 0.0 \n",
        "        self.times = []\n",
        "        self.b_vols = []\n",
        "        self.b_pres = []\n",
        "\n",
        "    def _set_spike_detector(self, sim):\n",
        "        for gid, cell in sim.net.get_local_cells().items():\n",
        "            tvec = sim._spikes[gid]\n",
        "            self._spike_records[gid] = tvec\n",
        "\n",
        "    def initialize(self, sim):\n",
        "        self._block_length_ms = sim.nsteps_block*sim.dt\n",
        "        self._n_cells = len(sim.net.get_local_cells())\n",
        "        print(sim.net.get_local_cells())\n",
        "\n",
        "        self._spikes = h.Vector()  # start off with empty input\n",
        "        vec_stim = h.VecStim()\n",
        "        vec_stim.play(self._spikes)\n",
        "        self._vect_stim = vec_stim\n",
        "\n",
        "        for gid, cell in sim.net.get_local_cells().items():\n",
        "            self._spike_events[gid] = np.array([])\n",
        "            # For each cell we setup a network connection, NetCon object, that stimulates input as a series of spike\n",
        "            # events mimicking a synapse. For this simple example each cell recieves only 1 virtual synapse/netcon.\n",
        "            # To have more than 1 netcon in each cell you can add an extra internal loop, and _synapses and _netcons\n",
        "            # will be a dictionary of lists\n",
        "            if isinstance(cell, BioCell):\n",
        "                # For biophysicaly detailed cells we use an Synapse object that is placed at the soma. If you want to\n",
        "                # place it at somewhere different than the soma you can use the following code:\n",
        "                #   seg_x, sec_obj = cell.morphology.find_sections(\n",
        "                #       sections_names=[axon, soma, dend, apic],\n",
        "                #       distance_ranges=[0.0, 1000.0]\n",
        "                #   )\n",
        "                #   syn = h.Exp2Syn(seg_x, sec=sec_obj\n",
        "                syn = h.Exp2Syn(0.5, sec=cell.hobj.soma[0])\n",
        "                syn.e = 0.0\n",
        "                syn.tau1 = 0.1\n",
        "                syn.tau2 = 0.3\n",
        "                self._synapses[gid] = syn\n",
        "\n",
        "                # create a NetCon connection on the synpase using the array of spike-time values\n",
        "                nc = h.NetCon(vec_stim, syn)\n",
        "                nc.threshold = sim.net.spike_threshold\n",
        "                nc.weight[0] = 0.2\n",
        "                nc.delay = 1.0\n",
        "                self._netcons[gid] = nc\n",
        "\n",
        "            elif isinstance(cell, PointProcessCell):\n",
        "                nc = h.NetCon(vec_stim, cell.hobj)\n",
        "                self._netcons[gid] = nc\n",
        "                nc.weight[0] = 15 #10.2\n",
        "                nc.delay = .05\n",
        "\n",
        "        self._set_spike_detector(sim)\n",
        "        pc.barrier()\n",
        "\n",
        "    def step(self, sim, tstep):\n",
        "        pass\n",
        "    \n",
        "    def block(self, sim, block_interval):\n",
        "        block_length = sim.nsteps_block*sim.dt/1000.0\n",
        "        t = sim.h.t-block_length*1000.0\n",
        "        \n",
        "        #### BLADDER EQUATIONS ####    \n",
        "    # Grill, et al. 2016\n",
        "        def blad_vol(vol):\n",
        "            f = 1.5*20*vol - 10 #1.5*20*vol-10\n",
        "            return f\n",
        "\n",
        "        # Grill function returning pressure in units of cm H20\n",
        "\t    # Grill, et al. 2016\n",
        "        def pressure(fr,v):\n",
        "            p = 0.2*fr + 1.0*v\n",
        "            p = max(p,0.0)\n",
        "            return p \n",
        "\n",
        "        # Grill function returning bladder afferent firing rate in units of Hz\n",
        "\t    # Grill, et al. 2016\n",
        "        def blad_aff_fr(p):\n",
        "            fr1 = -3.0E-08*p**5 + 1.0E-5*p**4 - 1.5E-03*p**3 + 7.9E-02*p**2 - 0.6*p\n",
        "            fr1 = max(fr1,5.0)\n",
        "            return fr1 # Using scaling factor of 5 here to get the correct firing rate range\n",
        "\n",
        "    ### STEP 1: Calculate PGN Firing Rate ###\n",
        "        print(f'Caclulating firing rates for times {block_interval[0]*sim.dt} to {block_interval[1]*sim.dt} ms')\n",
        "        print('node_id\\tHz')\n",
        "        summed_fr = 0\n",
        "        for gid, tvec in self._spike_records.items():\n",
        "            # self._spike_records is a dictionary of the recorded spikes for each cell in the previous block of\n",
        "            #  time. When self._set_spike_detector() is called it will reset/empty the spike times. If you want to\n",
        "            #  print/save the actual spike-times you can call self._all_spikes[gid] += list(tvec)\n",
        "            if gid == 0:\n",
        "              n_spikes = len(tvec)\n",
        "              fr = n_spikes / (self._block_length_ms/1000.0)\n",
        "              summed_fr += fr\n",
        "              print(f'{gid}\\t\\t{fr}')\n",
        "        print(f'firing rate avg: {summed_fr / self._n_cells}')\n",
        "        \n",
        "        # Grill \n",
        "        PGN_fr = max(2.0E-03*fr**3 - 3.3E-02*fr**2 + 1.8*fr - 0.5, 0.0)\n",
        "        print(\"Grill PGN fr = {0} Hz\".format(PGN_fr))\n",
        "\n",
        "    ### STEP 2: Volume Calculations ###\n",
        "        v_init = 0.05       # TODO: get biological value for initial bladder volume\n",
        "        fill = 0.05 \t \t# ml/min (Asselt et al. 2017)\n",
        "        fill /= (1000 * 60) # Scale from ml/min to ml/ms\n",
        "        void = 4.6 \t \t\t# ml/min (Streng et al. 2002)\n",
        "        void /= (1000 * 60) # Scale from ml/min to ml/ms\n",
        "        max_v = 1.5 \t\t# ml (Grill et al. 2019) #0.76\n",
        "        vol = v_init\n",
        "        \n",
        "        # Filling\n",
        "        if t < 60000 and vol < max_v:\n",
        "            vol = fill*t*20 + v_init\n",
        "        # Voiding\n",
        "        elif self.blad_fr > 10:\n",
        "            vol = max_v - void*(60000-t)*100\n",
        "        \n",
        "        # Maintain minimum volume\n",
        "        if vol < v_init:\n",
        "            vol = v_init\n",
        "        \n",
        "        # Grill\n",
        "        grill_vol = blad_vol(vol)\n",
        "        \n",
        "    ### STEP 3: Pressure and Bladder Afferent FR Calculations ###\n",
        "        p = pressure(PGN_fr, grill_vol)\n",
        "        self.blad_fr = blad_aff_fr(p)\n",
        "        \n",
        "    ### STEP 4: Update the input spikes each cell recieves in the next time block\n",
        "        # Calculate the start and stop times for the next block\n",
        "        next_block_tstart = block_interval[1]*sim.dt\n",
        "        next_block_tstop = next_block_tstart+self._block_length_ms\n",
        "\n",
        "        # For this simple example we just create a randomized series of spike for the next time block for each of the\n",
        "        #  14 cells. The stimuli input rate (self._current_input_rate) is increamented by 10 Hz each block, for more\n",
        "        #  realistic simulations you can use the firing-rates calcualted above to adjust the incoming stimuli.\n",
        "        print(\"Calculated Bladder Afferent Firing Rate: {0}\".format(self.blad_fr))\n",
        "        psg = PoissonSpikeGenerator()\n",
        "        psg.add(\n",
        "            node_ids= 0,\n",
        "            firing_rate= self.blad_fr,\n",
        "            times=(next_block_tstart/1000.0 + 0.01, next_block_tstop/1000.0),\n",
        "            population= 'PGN',\n",
        "        )\n",
        "        \n",
        "        psg.add_spikes([0], [next_block_tstop], population = \"PGN\")\n",
        "        psg.to_csv(\"spikes.csv\")\n",
        "        #self._current_input_rate += 10.0\n",
        "\n",
        "        for gid, cell in sim.net.get_local_cells().items():\n",
        "            spikes = psg.get_times(gid, population='PGN')\n",
        "            spikes = np.sort(spikes)\n",
        "            #spikes = np.arange(next_block_tstart/1000.0 + 0.1, next_block_tstop/1000.0, 0.1).tolist()\n",
        "            print(\"HEllo: \\n {0}\".format(spikes))\n",
        "            if len(spikes) == 0:\n",
        "                continue\n",
        "\n",
        "            # The next block of code is where we update the incoming/virtual spike trains for each cell, by adding\n",
        "            # each spike to the cell's netcon (eg synapse). The only caveats is the spike-trains array must\n",
        "            #  1. Have atleast one spike\n",
        "            #  2. Be sorted\n",
        "            #  3. first spike must occur after the delay.\n",
        "            # Otherwise an error will be thrown.\n",
        "            self._spike_events[gid] = np.concatenate((self._spike_events[gid], spikes))\n",
        "            nc = self._netcons[gid]\n",
        "            for t in spikes:\n",
        "                nc.event(t)\n",
        "\n",
        "        self._set_spike_detector(sim)\n",
        "        pc.barrier()\n",
        "        \n",
        "    ### STEP 5: Save Calculations ####\n",
        "        self._prev_glob_press = self._glob_press\n",
        "        self._glob_press = p \n",
        "\n",
        "        io.log_info('PGN firing rate = %.2f Hz' %fr)\n",
        "        io.log_info('Volume = %.2f ml' %vol)\n",
        "        io.log_info('Pressure = %.2f cm H20' %p)\n",
        "        io.log_info('Bladder afferent firing rate = {:.2f} Hz'.format(self.blad_fr))\n",
        "\n",
        "        # Save values in appropriate lists\n",
        "        self.times.append(t)\n",
        "        self.b_vols.append(vol)\n",
        "        self.b_pres.append(p)\n",
        "\n",
        "    def finalize(self, sim):\n",
        "        pass"
      ],
      "metadata": {
        "id": "nPsMwr48T_cv"
      },
      "execution_count": null,
      "outputs": []
    },
    {
      "cell_type": "code",
      "source": [
        "# Plotting\n",
        "\n",
        "import matplotlib.pyplot as plt\n",
        "import numpy as np\n",
        "\n",
        "\n",
        "def plot_figure(means, stdevs, n_steps, dt, tstep=100, fbmod=None, savefig=True):\n",
        "    #Plot bladder volume and bladder pressure\n",
        "    if fbmod is not None:\n",
        "        fig1, ax1_1 = plt.subplots()\n",
        "\n",
        "        color = 'tab:red'\n",
        "        ax1_1.set_xlabel('Time (t) [ms]')\n",
        "        # ax1_1.set_ylabel('Bladder Volume (V) [ml]', color=color)\n",
        "        ax1_1.plot(fbmod.times, fbmod.b_vols, color=color)\n",
        "        ax1_1.tick_params(axis='y', labelcolor=color)\n",
        "\n",
        "        ax2_1 = ax1_1.twinx()  # instantiate a second axes that shares the same x-axis\n",
        "\n",
        "        color = 'tab:blue'\n",
        "        ax2_1.set_ylabel('Bladder Pressure (P) [cm H20]', color=color)  # we already handled the x-label with ax1\n",
        "        ax2_1.plot(fbmod.times, fbmod.b_pres, color=color)\n",
        "        ax2_1.tick_params(axis='y', labelcolor=color)\n",
        "\n",
        "        fig1.tight_layout()  # otherwise the right y-label is slightly clipped\n",
        "\n",
        "    # tstep (ms)\n",
        "    tstop = (n_steps-1)*dt\n",
        "    t = np.arange(0.0,tstop,tstep)\n",
        "    ind = np.floor(t/dt).astype(np.int)\n",
        "\n",
        "    fig2 = plt.figure()\n",
        "    plt.plot(t, means['Bladaff'][ind], color='b', marker='^', mfc='b', mec='b', label='PGN')\n",
        "    #plt.plot(t, means['PGN'][ind], color='g', marker='o', mfc='g', mec='g', label='PGN')\n",
        "\n",
        "    plt.xlabel('Time (t) [ms]')\n",
        "    plt.ylabel('Neuron Firing Rate (FR) [Hz]')\n",
        "    plt.legend()\n",
        "\n",
        "    if savefig:\n",
        "        if fbmod is not None:\n",
        "            fig1.savefig('./graphs/Pressure_vol.png',transparent=True)\n",
        "        fig2.savefig('./graphs/NFR_PGN.png',transparent=True)\n",
        "\n",
        "\n",
        "    plt.show()\n",
        "\n",
        "def plotting_calculator(spike_trains, n_steps, dt, window, index, num, pop):\n",
        "    # window (ms)\n",
        "    ind = index[pop]\n",
        "    n = num[pop]\n",
        "    fr_conv = np.zeros((n,n_steps))\n",
        "    \n",
        "    def moving_avg(x):\n",
        "        window_size = np.ceil(window/dt).astype(np.int)\n",
        "        x_cum = np.insert(np.cumsum(x),0,np.zeros(window_size))\n",
        "        y = (x_cum[window_size:]-x_cum[:-window_size])/(window_size*dt/1000)\n",
        "        return y\n",
        "\n",
        "    for gid in range(ind,ind+n):\n",
        "        spikes = np.zeros(n_steps)\n",
        "        spiketimes = spike_trains.get_times(gid)\n",
        "        if len(spiketimes) > 0:\n",
        "            spikes[(spiketimes/dt).astype(np.int)] = 1\n",
        "        fr_conv[gid-ind] = moving_avg(spikes)\n",
        "\n",
        "    means = np.mean(fr_conv,axis=0)\n",
        "    stdevs = np.std(fr_conv,axis=0)\n",
        "    \n",
        "    return means, stdevs"
      ],
      "metadata": {
        "id": "DDORB_I7USHk"
      },
      "execution_count": null,
      "outputs": []
    },
    {
      "cell_type": "code",
      "source": [
        "# Synapses\n",
        "\n",
        "import glob\n",
        "import json\n",
        "import os\n",
        "\n",
        "from bmtk.simulator.bionet.pyfunction_cache import add_synapse_model\n",
        "from neuron import h\n",
        "import random\n",
        "\n",
        "def Exp2Syn1_STSP(syn_params, sec_x, sec_id):\n",
        "    \"\"\"Create a Exp2Syn1_STSP synapse\n",
        "    :param syn_params: parameters of a synapse\n",
        "    :param sec_x: normalized distance along the section\n",
        "    :param sec_id: target section\n",
        "    :return: NEURON synapse object\n",
        "    \"\"\"\n",
        "\n",
        "    lsyn = h.Exp2Syn1_STSP(sec_x, sec=sec_id)\n",
        "\n",
        "    if syn_params.get('e'):\n",
        "        lsyn.e = float(syn_params['e'])\n",
        "    if syn_params.get('tauD1'):\n",
        "        lsyn.tauD1 = float(syn_params['tauD1']) \n",
        "    if syn_params.get('d1'):\n",
        "        lsyn.d1 = float(syn_params['d1']) \n",
        "    if syn_params.get('tauD2'):\n",
        "        lsyn.tauD2 = float(syn_params['tauD2'])\n",
        "    if syn_params.get('d2'):\n",
        "        lsyn.d2 = float(syn_params['d2']) \n",
        "    if syn_params.get('tauF'):\n",
        "        lsyn.tauF = float(syn_params['tauF'])\n",
        "    if syn_params.get('f'):\n",
        "        lsyn.f = float(syn_params['f']) \n",
        "    \n",
        "    return lsyn\n",
        "\n",
        "\n",
        "def exp2syn1_stsp(syn_params, xs, secs):\n",
        "    \"\"\"Create a list of Exp2Syn1_STSP synapses\n",
        "    :param syn_params: parameters of a synapse\n",
        "    :param xs: list of normalized distances along the section\n",
        "    :param secs: target sections\n",
        "    :return: list of NEURON synpase objects\n",
        "    \"\"\"\n",
        "    syns = []\n",
        "    for x, sec in zip(xs, secs):\n",
        "        syn = Exp2Syn1_STSP(syn_params, x, sec)\n",
        "        syns.append(syn)\n",
        "    return syns\n",
        "\n",
        "def load():\n",
        "    add_synapse_model(Exp2Syn1_STSP, 'exp2syn1_stsp', overwrite=False)\n",
        "    add_synapse_model(Exp2Syn1_STSP, overwrite=False)\n",
        "    return\n",
        "\n",
        "def syn_params_dicts(syn_dir='biophys_components/synaptic_models'):\n",
        "    \"\"\"\n",
        "    returns: A dictionary of dictionaries containing all\n",
        "    properties in the synapse json files\n",
        "    \"\"\"\n",
        "    files = glob.glob(os.path.join(syn_dir,'*.json'))\n",
        "    data = {}\n",
        "    for fh in files:\n",
        "        with open(fh) as f:\n",
        "            data[os.path.basename(fh)] = json.load(f) #data[\"filename.json\"] = {\"prop1\":\"val1\",...}\n",
        "    return data"
      ],
      "metadata": {
        "id": "l4-sUoADTyNi"
      },
      "execution_count": null,
      "outputs": []
    },
    {
      "cell_type": "code",
      "source": [
        "# Plot Results\n",
        "\n",
        "import sys, os\n",
        "from bmtk.simulator import bionet\n",
        "from bmtk.utils.reports.spike_trains import SpikeTrains\n",
        "from feedback_loop import FeedBackLoop\n",
        "import numpy as np\n",
        "import pandas as pd\n",
        "from plotting import plot_figure, plotting_calculator\n",
        "from bmtk.analyzer.compartment import plot_traces\n",
        "\n",
        "num = {\n",
        "'Bladaff' : 1,\n",
        "'PGN'     : 1\n",
        "}\n",
        "gids = {}\n",
        "ind = 0\n",
        "for pop,n in num.items():\n",
        "    gids[pop] = ind\n",
        "    ind += n\n",
        "\n",
        "def run(config_file=None,sim=None,conf=None):\n",
        "    if config_file is not None:\n",
        "        conf = bionet.Config.from_json(config_file, validate=True)\n",
        "        dt = conf['run']['dt']\n",
        "        n_steps = np.ceil(conf['run']['tstop']/dt+1).astype(np.int)\n",
        "        fbmod = None\n",
        "    if sim is not None:\n",
        "        n_steps = sim.n_steps\n",
        "        dt = sim.dt\n",
        "        fbmod = sim._sim_mods[[isinstance(mod,FeedBackLoop) for mod in sim._sim_mods].index(True)]\n",
        "    output_dir = conf.output_dir\n",
        "    print(n_steps,dt)\n",
        "\n",
        "    spikes_df = pd.read_csv(os.path.join(output_dir,'output/spikes.csv'), sep=' ')\n",
        "    print(spikes_df['node_ids'].unique())\n",
        "    spike_trains = SpikeTrains.from_sonata(os.path.join(output_dir,'output/spikes.h5'))\n",
        "\n",
        "    #plotting\n",
        "    window_size = 1000\n",
        "    pops = ['PGN', 'Bladaff']\n",
        "    windows = [window_size]*len(pops)\n",
        "    means = {}\n",
        "    stdevs = {}\n",
        "    for pop,win in zip(pops,windows):\n",
        "        means[pop], stdevs[pop] = plotting_calculator(spike_trains, n_steps, dt, win, gids, num, pop)\n",
        "    \n",
        "    plot_figure(means, stdevs, n_steps, dt, tstep=window_size, fbmod=fbmod)\n",
        "\n",
        "\n",
        "if __name__ == '__main__':\n",
        "    if __file__ != sys.argv[-1]:\n",
        "        run(config_file=sys.argv[-1])\n",
        "    else:\n",
        "        run(config_file='jsons/simulation_config.json')\n",
        "        \n",
        "    plot_traces(config_file = 'jsons/simulation_config.json', report_name = 'membrane_report', node_ids = [0], title = 'PGN Membrane Voltage', show_legend = False)\n"
      ],
      "metadata": {
        "colab": {
          "base_uri": "https://localhost:8080/",
          "height": 373
        },
        "id": "JfXQexKuUn8g",
        "outputId": "fbb125a4-7ac2-402e-e9de-19240aaa7870"
      },
      "execution_count": null,
      "outputs": [
        {
          "output_type": "error",
          "ename": "ModuleNotFoundError",
          "evalue": "ignored",
          "traceback": [
            "\u001b[0;31m---------------------------------------------------------------------------\u001b[0m",
            "\u001b[0;31mModuleNotFoundError\u001b[0m                       Traceback (most recent call last)",
            "\u001b[0;32m<ipython-input-9-f3634c9a4e93>\u001b[0m in \u001b[0;36m<cell line: 6>\u001b[0;34m()\u001b[0m\n\u001b[1;32m      4\u001b[0m \u001b[0;32mfrom\u001b[0m \u001b[0mbmtk\u001b[0m\u001b[0;34m.\u001b[0m\u001b[0msimulator\u001b[0m \u001b[0;32mimport\u001b[0m \u001b[0mbionet\u001b[0m\u001b[0;34m\u001b[0m\u001b[0;34m\u001b[0m\u001b[0m\n\u001b[1;32m      5\u001b[0m \u001b[0;32mfrom\u001b[0m \u001b[0mbmtk\u001b[0m\u001b[0;34m.\u001b[0m\u001b[0mutils\u001b[0m\u001b[0;34m.\u001b[0m\u001b[0mreports\u001b[0m\u001b[0;34m.\u001b[0m\u001b[0mspike_trains\u001b[0m \u001b[0;32mimport\u001b[0m \u001b[0mSpikeTrains\u001b[0m\u001b[0;34m\u001b[0m\u001b[0;34m\u001b[0m\u001b[0m\n\u001b[0;32m----> 6\u001b[0;31m \u001b[0;32mfrom\u001b[0m \u001b[0mfeedback_loop\u001b[0m \u001b[0;32mimport\u001b[0m \u001b[0mFeedBackLoop\u001b[0m\u001b[0;34m\u001b[0m\u001b[0;34m\u001b[0m\u001b[0m\n\u001b[0m\u001b[1;32m      7\u001b[0m \u001b[0;32mimport\u001b[0m \u001b[0mnumpy\u001b[0m \u001b[0;32mas\u001b[0m \u001b[0mnp\u001b[0m\u001b[0;34m\u001b[0m\u001b[0;34m\u001b[0m\u001b[0m\n\u001b[1;32m      8\u001b[0m \u001b[0;32mimport\u001b[0m \u001b[0mpandas\u001b[0m \u001b[0;32mas\u001b[0m \u001b[0mpd\u001b[0m\u001b[0;34m\u001b[0m\u001b[0;34m\u001b[0m\u001b[0m\n",
            "\u001b[0;31mModuleNotFoundError\u001b[0m: No module named 'feedback_loop'",
            "",
            "\u001b[0;31m---------------------------------------------------------------------------\u001b[0;32m\nNOTE: If your import is failing due to a missing package, you can\nmanually install dependencies using either !pip or !apt.\n\nTo view examples of installing some common dependencies, click the\n\"Open Examples\" button below.\n\u001b[0;31m---------------------------------------------------------------------------\u001b[0m\n"
          ],
          "errorDetails": {
            "actions": [
              {
                "action": "open_url",
                "actionText": "Open Examples",
                "url": "/notebooks/snippets/importing_libraries.ipynb"
              }
            ]
          }
        }
      ]
    }
  ]
}